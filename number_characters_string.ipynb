{
 "cells": [
  {
   "cell_type": "code",
   "execution_count": 8,
   "id": "37cc92a6",
   "metadata": {},
   "outputs": [
    {
     "name": "stdout",
     "output_type": "stream",
     "text": [
      "input any string:First program in coding challenge\n"
     ]
    }
   ],
   "source": [
    "str1=input(\"input any string:\")"
   ]
  },
  {
   "cell_type": "code",
   "execution_count": 9,
   "id": "63794d2e",
   "metadata": {},
   "outputs": [],
   "source": [
    "count=0"
   ]
  },
  {
   "cell_type": "code",
   "execution_count": 10,
   "id": "1ecb9025",
   "metadata": {},
   "outputs": [
    {
     "name": "stdout",
     "output_type": "stream",
     "text": [
      "1  character is:  F\n",
      "2  character is:  i\n",
      "3  character is:  r\n",
      "4  character is:  s\n",
      "5  character is:  t\n",
      "6  character is:   \n",
      "7  character is:  p\n",
      "8  character is:  r\n",
      "9  character is:  o\n",
      "10  character is:  g\n",
      "11  character is:  r\n",
      "12  character is:  a\n",
      "13  character is:  m\n",
      "14  character is:   \n",
      "15  character is:  i\n",
      "16  character is:  n\n",
      "17  character is:   \n",
      "18  character is:  c\n",
      "19  character is:  o\n",
      "20  character is:  d\n",
      "21  character is:  i\n",
      "22  character is:  n\n",
      "23  character is:  g\n",
      "24  character is:   \n",
      "25  character is:  c\n",
      "26  character is:  h\n",
      "27  character is:  a\n",
      "28  character is:  l\n",
      "29  character is:  l\n",
      "30  character is:  e\n",
      "31  character is:  n\n",
      "32  character is:  g\n",
      "33  character is:  e\n"
     ]
    }
   ],
   "source": [
    "for item in list(str1):\n",
    "    count=count+1\n",
    "    print(count, \" character is: \", item)"
   ]
  },
  {
   "cell_type": "code",
   "execution_count": 11,
   "id": "5fd8e1b1",
   "metadata": {},
   "outputs": [
    {
     "name": "stdout",
     "output_type": "stream",
     "text": [
      "The length of the string is: 33\n"
     ]
    }
   ],
   "source": [
    "print(\"The length of the string is:\", count)"
   ]
  }
 ],
 "metadata": {
  "kernelspec": {
   "display_name": "Python 3 (ipykernel)",
   "language": "python",
   "name": "python3"
  },
  "language_info": {
   "codemirror_mode": {
    "name": "ipython",
    "version": 3
   },
   "file_extension": ".py",
   "mimetype": "text/x-python",
   "name": "python",
   "nbconvert_exporter": "python",
   "pygments_lexer": "ipython3",
   "version": "3.11.5"
  }
 },
 "nbformat": 4,
 "nbformat_minor": 5
}
