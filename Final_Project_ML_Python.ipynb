{
 "cells": [
  {
   "cell_type": "markdown",
   "id": "d80604ce-8fb1-4a3f-be11-844f077f241b",
   "metadata": {},
   "source": [
    "# Final Project"
   ]
  },
  {
   "cell_type": "markdown",
   "id": "6126e0a5-a79b-4ece-8664-38c67da28a66",
   "metadata": {},
   "source": [
    "### Q1. Your views about the problem statement?\n",
    "\n",
    "The problem statement is very detailed and easy to understand.\n"
   ]
  },
  {
   "cell_type": "markdown",
   "id": "f88ace30-3dea-485b-9ef5-2054a7d02322",
   "metadata": {},
   "source": [
    "### Q2. What will be your approach to solving this task?\n",
    "\n",
    "My approach to solving this task is as below:\n",
    "* Import the necessary libraries\n",
    "* Import the data\n",
    "* Visualize the data\n",
    "* Do the pre-processing on the data\n",
    "* Again visualize the data\n",
    "* Mention the dependent and independent variables\n",
    "* Split the data for Train and Test\n",
    "* Train and test available models\n",
    "* Based on the model's performance conclude which model is best suited\n"
   ]
  },
  {
   "cell_type": "markdown",
   "id": "087d4b87-867d-49ed-b9e6-6e4c5f4020cf",
   "metadata": {},
   "source": [
    "### Q3. What were the available ML model options you had to perform this task?\n",
    "\n",
    "The following are the ML model options available for performing this task:\n",
    "* Linear Regression\n",
    "* OLS\n",
    "* Ridge\n",
    "* Lasso\n",
    "\n",
    "The following are the ML model options available but not they cannot be used to perform this task.\n",
    "Since, these methods are for the problems with two or more class values for the dependent variable(not continuous).\n",
    "* Classification and Regression Trees\n",
    "* K-Nearest Neighbors (KNN)\n",
    "* Bagging\n",
    "* Random Forest\n",
    "* Grid Search\n",
    "* Gradient Boosting\n",
    "* Ada Boost\n",
    "* Logistic Regression \n",
    "\n"
   ]
  },
  {
   "cell_type": "markdown",
   "id": "12803f99-6917-4df5-83f0-f3e3226dcf1c",
   "metadata": {},
   "source": [
    "### Q4. Which model’s performance is best and what could be the possible reason for that?\n",
    "\n",
    "Based on the r2_score value, Ridge regression is best.\n",
    "\n",
    "* r2 score for OLS is 0.534\n",
    "\n",
    "* r2 score for linear regression is 0.5383333027569247\n",
    "\n",
    "\n",
    "* #### r2 score for Ridge is 0.5400624767491193\n",
    "\n",
    "\n",
    "* r2 score for Lasso is 0.5396891770372774\n"
   ]
  },
  {
   "cell_type": "markdown",
   "id": "7b5deee8-11b3-47e6-b32d-41bcf7558f78",
   "metadata": {},
   "source": [
    "### Q5. What steps can you take to improve this selected model’s performance even further?\n",
    "\n",
    "\n",
    "To improve the selected model's performance, will train and test with different random samples.\n"
   ]
  },
  {
   "cell_type": "markdown",
   "id": "31d14261-631f-4b03-9b13-85fa2523bdba",
   "metadata": {},
   "source": [
    "## Import the necessary libraries"
   ]
  },
  {
   "cell_type": "code",
   "execution_count": 512,
   "id": "908e4505-471a-4b56-9e17-33cb9367a11a",
   "metadata": {},
   "outputs": [],
   "source": [
    "import pydotplus\n",
    "import numpy as np\n",
    "import pandas as pd\n",
    "import seaborn as sb\n",
    "import matplotlib.pyplot as plt\n",
    "import statsmodels.api as sma\n",
    "from sklearn import tree\n",
    "from sklearn import preprocessing\n",
    "from IPython.display import Image\n",
    "from sklearn.linear_model import LinearRegression, Ridge, Lasso\n",
    "from sklearn.model_selection import train_test_split\n",
    "from sklearn.model_selection import validation_curve\n",
    "from sklearn.metrics import r2_score, accuracy_score, confusion_matrix\n"
   ]
  },
  {
   "cell_type": "markdown",
   "id": "1c22e372-a9c2-4670-85a2-320f0e19506b",
   "metadata": {},
   "source": [
    "## Load the data from the following CSV file\n",
    "* ML case Study \n",
    "* Cities\n",
    "* Colleges"
   ]
  },
  {
   "cell_type": "code",
   "execution_count": 514,
   "id": "7d453f89-ad24-42f1-bfcf-27c1b3b93770",
   "metadata": {},
   "outputs": [],
   "source": [
    "fp_df = pd.read_csv(\"ML case Study.csv\", header=0)\n",
    "cities_data = pd.read_csv(\"cities.csv\", header=0)\n",
    "college_data = pd.read_csv(\"Colleges.csv\", header=0)"
   ]
  },
  {
   "cell_type": "markdown",
   "id": "716c22a2-a858-46f5-a1a4-071131d29a60",
   "metadata": {},
   "source": [
    "## Print the details of the data\n",
    "* Number of rows and columns\n",
    "* First five rows\n",
    "* EDD\n",
    "* Information about the variables"
   ]
  },
  {
   "cell_type": "code",
   "execution_count": 516,
   "id": "91311c8c-9d5d-463d-86f0-f52bc7a21bab",
   "metadata": {},
   "outputs": [],
   "source": [
    "df_list = [fp_df, cities_data, college_data]"
   ]
  },
  {
   "cell_type": "code",
   "execution_count": 517,
   "id": "2c553058-a176-4570-af67-f1ed80854c87",
   "metadata": {},
   "outputs": [
    {
     "name": "stdout",
     "output_type": "stream",
     "text": [
      "Number of rows and columns are:\n",
      "(1589, 8)\n",
      "Top 5 rows are:\n",
      "             College             City       Role  Previous CTC  \\\n",
      "0        SVNIT Surat          Asansol    Manager       55523.0   \n",
      "1         NIT Bhopal            Ajmer  Executive       57081.0   \n",
      "2       IEM, Kolkata  Rajpur Sonarpur  Executive       60347.0   \n",
      "3  KIIT, Bhubaneswar            Ajmer  Executive       49010.0   \n",
      "4                DTU         Durgapur  Executive       57879.0   \n",
      "\n",
      "   Previous job change  Graduation Marks  EXP (Month)       CTC  \n",
      "0                    3                66           19  71406.58  \n",
      "1                    1                84           18  68005.87  \n",
      "2                    2                52           28  76764.02  \n",
      "3                    2                81           33  82092.39  \n",
      "4                    4                74           32  73878.10  \n",
      "EDD:\n",
      "       Previous CTC  Previous job change  Graduation Marks  EXP (Month)  \\\n",
      "count   1589.000000          1589.000000       1589.000000  1589.000000   \n",
      "mean   55518.453744             2.528634         59.855255    39.044682   \n",
      "std     6655.218445             1.123918         14.935139    14.108875   \n",
      "min    36990.000000             1.000000         35.000000    18.000000   \n",
      "25%    50518.000000             2.000000         46.000000    26.000000   \n",
      "50%    55291.000000             3.000000         60.000000    39.000000   \n",
      "75%    60109.000000             4.000000         73.000000    51.000000   \n",
      "max    77911.000000             4.000000         85.000000    64.000000   \n",
      "\n",
      "                 CTC  \n",
      "count    1589.000000  \n",
      "mean    75353.278798  \n",
      "std     12587.288237  \n",
      "min     53020.320000  \n",
      "25%     66902.350000  \n",
      "50%     73028.670000  \n",
      "75%     80588.670000  \n",
      "max    123416.990000  \n",
      "Information about the variables are:\n",
      "<class 'pandas.core.frame.DataFrame'>\n",
      "RangeIndex: 1589 entries, 0 to 1588\n",
      "Data columns (total 8 columns):\n",
      " #   Column               Non-Null Count  Dtype  \n",
      "---  ------               --------------  -----  \n",
      " 0   College              1589 non-null   object \n",
      " 1   City                 1589 non-null   object \n",
      " 2   Role                 1589 non-null   object \n",
      " 3   Previous CTC         1589 non-null   float64\n",
      " 4   Previous job change  1589 non-null   int64  \n",
      " 5   Graduation Marks     1589 non-null   int64  \n",
      " 6   EXP (Month)          1589 non-null   int64  \n",
      " 7   CTC                  1589 non-null   float64\n",
      "dtypes: float64(2), int64(3), object(3)\n",
      "memory usage: 99.4+ KB\n",
      "None\n",
      "Number of rows and columns are:\n",
      "(9, 2)\n",
      "Top 5 rows are:\n",
      "  Metrio City non-metro cities\n",
      "0      Mumbai         Dehradun\n",
      "1       Delhi         Durgapur\n",
      "2     Kolkata          Asansol\n",
      "3     Chennai         Rourkela\n",
      "4   Bangalore        Kozhikode\n",
      "EDD:\n",
      "       Metrio City non-metro cities\n",
      "count            9                8\n",
      "unique           9                8\n",
      "top         Mumbai         Dehradun\n",
      "freq             1                1\n",
      "Information about the variables are:\n",
      "<class 'pandas.core.frame.DataFrame'>\n",
      "RangeIndex: 9 entries, 0 to 8\n",
      "Data columns (total 2 columns):\n",
      " #   Column            Non-Null Count  Dtype \n",
      "---  ------            --------------  ----- \n",
      " 0   Metrio City       9 non-null      object\n",
      " 1   non-metro cities  8 non-null      object\n",
      "dtypes: object(2)\n",
      "memory usage: 276.0+ bytes\n",
      "None\n",
      "Number of rows and columns are:\n",
      "(28, 3)\n",
      "Top 5 rows are:\n",
      "          Tier 1          Tier 2                                      Tier 3\n",
      "0     IIT Bombay  IIIT Bangalore  Ramaiah Institute of Technology, Bengaluru\n",
      "1      IIT Delhi      IIIT Delhi                      TIET/Thapar University\n",
      "2  IIT Kharagpur          IGDTUW                         Manipal Main Campus\n",
      "3     IIT Madras     NIT Calicut                                 VIT Vellore\n",
      "4     IIT Kanpur   IIITM Gwalior                             SRM Main Campus\n",
      "EDD:\n",
      "            Tier 1          Tier 2                                      Tier 3\n",
      "count           22              28                                          19\n",
      "unique          22              28                                          19\n",
      "top     IIT Bombay  IIIT Bangalore  Ramaiah Institute of Technology, Bengaluru\n",
      "freq             1               1                                           1\n",
      "Information about the variables are:\n",
      "<class 'pandas.core.frame.DataFrame'>\n",
      "RangeIndex: 28 entries, 0 to 27\n",
      "Data columns (total 3 columns):\n",
      " #   Column  Non-Null Count  Dtype \n",
      "---  ------  --------------  ----- \n",
      " 0   Tier 1  22 non-null     object\n",
      " 1   Tier 2  28 non-null     object\n",
      " 2   Tier 3  19 non-null     object\n",
      "dtypes: object(3)\n",
      "memory usage: 804.0+ bytes\n",
      "None\n"
     ]
    }
   ],
   "source": [
    "for item in range(3):\n",
    "    print(\"Number of rows and columns are:\")\n",
    "    print(df_list[item].shape)\n",
    "    print(\"Top 5 rows are:\")\n",
    "    print(df_list[item].head())\n",
    "    print(\"EDD:\")\n",
    "    print(df_list[item].describe())\n",
    "    print(\"Information about the variables are:\")\n",
    "    print(df_list[item].info())"
   ]
  },
  {
   "cell_type": "markdown",
   "id": "ff779068-9081-483e-8420-21501c2bbd6e",
   "metadata": {},
   "source": [
    "## Missing values treatment.\n",
    "\n",
    "Since the number of rows of the data frame and the number of entries for each column are equal.\n",
    "We can conclude that there are no missing values."
   ]
  },
  {
   "cell_type": "markdown",
   "id": "f8e6e24a-e44e-41e1-ab65-f66730c135d1",
   "metadata": {},
   "source": [
    "### Create Dummy Variables\n",
    "\n",
    "In this step we need to convert all the columns with categorical values to numerical values.\n",
    "College, City, and  Role are the 3 columns with categorical values.\n",
    "For the College we assign numbers 1, 2, or 3 based on whether the college belongs to Tier 1, Tier 2, or Tier 3 respectively.\n",
    "For the City column we assign numbers 0, and 1 based on whether the it is a Metro city or Non-Metro City respectively.\n",
    "For the Role column we create a dummy variable using get_dummies method."
   ]
  },
  {
   "cell_type": "markdown",
   "id": "0fab79c4-1bd1-44d5-b159-8f790997b136",
   "metadata": {},
   "source": [
    "Print the first 5 rows from the college_data"
   ]
  },
  {
   "cell_type": "code",
   "execution_count": 521,
   "id": "c1b7b9a6-e744-4ae0-8d7a-518c89cebc84",
   "metadata": {},
   "outputs": [
    {
     "data": {
      "text/html": [
       "<div>\n",
       "<style scoped>\n",
       "    .dataframe tbody tr th:only-of-type {\n",
       "        vertical-align: middle;\n",
       "    }\n",
       "\n",
       "    .dataframe tbody tr th {\n",
       "        vertical-align: top;\n",
       "    }\n",
       "\n",
       "    .dataframe thead th {\n",
       "        text-align: right;\n",
       "    }\n",
       "</style>\n",
       "<table border=\"1\" class=\"dataframe\">\n",
       "  <thead>\n",
       "    <tr style=\"text-align: right;\">\n",
       "      <th></th>\n",
       "      <th>Tier 1</th>\n",
       "      <th>Tier 2</th>\n",
       "      <th>Tier 3</th>\n",
       "    </tr>\n",
       "  </thead>\n",
       "  <tbody>\n",
       "    <tr>\n",
       "      <th>0</th>\n",
       "      <td>IIT Bombay</td>\n",
       "      <td>IIIT Bangalore</td>\n",
       "      <td>Ramaiah Institute of Technology, Bengaluru</td>\n",
       "    </tr>\n",
       "    <tr>\n",
       "      <th>1</th>\n",
       "      <td>IIT Delhi</td>\n",
       "      <td>IIIT Delhi</td>\n",
       "      <td>TIET/Thapar University</td>\n",
       "    </tr>\n",
       "    <tr>\n",
       "      <th>2</th>\n",
       "      <td>IIT Kharagpur</td>\n",
       "      <td>IGDTUW</td>\n",
       "      <td>Manipal Main Campus</td>\n",
       "    </tr>\n",
       "    <tr>\n",
       "      <th>3</th>\n",
       "      <td>IIT Madras</td>\n",
       "      <td>NIT Calicut</td>\n",
       "      <td>VIT Vellore</td>\n",
       "    </tr>\n",
       "    <tr>\n",
       "      <th>4</th>\n",
       "      <td>IIT Kanpur</td>\n",
       "      <td>IIITM Gwalior</td>\n",
       "      <td>SRM Main Campus</td>\n",
       "    </tr>\n",
       "  </tbody>\n",
       "</table>\n",
       "</div>"
      ],
      "text/plain": [
       "          Tier 1          Tier 2                                      Tier 3\n",
       "0     IIT Bombay  IIIT Bangalore  Ramaiah Institute of Technology, Bengaluru\n",
       "1      IIT Delhi      IIIT Delhi                      TIET/Thapar University\n",
       "2  IIT Kharagpur          IGDTUW                         Manipal Main Campus\n",
       "3     IIT Madras     NIT Calicut                                 VIT Vellore\n",
       "4     IIT Kanpur   IIITM Gwalior                             SRM Main Campus"
      ]
     },
     "execution_count": 521,
     "metadata": {},
     "output_type": "execute_result"
    }
   ],
   "source": [
    "college_data.head()"
   ]
  },
  {
   "cell_type": "markdown",
   "id": "86b54a94-c07a-470a-bd34-752fafdf8f7b",
   "metadata": {},
   "source": [
    "Convert the each of the columns present in college_data to a separate list."
   ]
  },
  {
   "cell_type": "code",
   "execution_count": 523,
   "id": "d8371e43-8012-4034-bc7a-429ac8d8c18e",
   "metadata": {},
   "outputs": [],
   "source": [
    "Tier1 = college_data[\"Tier 1\"].tolist()\n",
    "Tier2 = college_data[\"Tier 2\"].tolist()\n",
    "Tier3 = college_data[\"Tier 3\"].tolist()"
   ]
  },
  {
   "cell_type": "markdown",
   "id": "2d168b0e-b8c7-4eef-93b3-81377f084f77",
   "metadata": {},
   "source": [
    "Below code checks if the college belongs to which tier and then replaces the college name with numeric values 1, 2, or 3."
   ]
  },
  {
   "cell_type": "code",
   "execution_count": 525,
   "id": "744766de-d4ab-405f-aa6c-937001e981d5",
   "metadata": {},
   "outputs": [],
   "source": [
    "for item in fp_df.College:\n",
    "    if item in Tier1:\n",
    "        fp_df[\"College\"].replace(item,1,inplace=True)\n",
    "    elif item in Tier2:\n",
    "        fp_df[\"College\"].replace(item,2,inplace=True)\n",
    "    elif item in Tier3:\n",
    "        fp_df[\"College\"].replace(item,3,inplace=True)"
   ]
  },
  {
   "cell_type": "markdown",
   "id": "cb3dd495-c3e6-4b7b-9893-259b087d7bfe",
   "metadata": {},
   "source": [
    "Print the first 10 rows from the fp_df to check if the categorical value for the column College is changed to numerical value"
   ]
  },
  {
   "cell_type": "code",
   "execution_count": 527,
   "id": "8e57302c-994c-4df4-8983-d499e6fec71b",
   "metadata": {},
   "outputs": [
    {
     "data": {
      "text/html": [
       "<div>\n",
       "<style scoped>\n",
       "    .dataframe tbody tr th:only-of-type {\n",
       "        vertical-align: middle;\n",
       "    }\n",
       "\n",
       "    .dataframe tbody tr th {\n",
       "        vertical-align: top;\n",
       "    }\n",
       "\n",
       "    .dataframe thead th {\n",
       "        text-align: right;\n",
       "    }\n",
       "</style>\n",
       "<table border=\"1\" class=\"dataframe\">\n",
       "  <thead>\n",
       "    <tr style=\"text-align: right;\">\n",
       "      <th></th>\n",
       "      <th>College</th>\n",
       "      <th>City</th>\n",
       "      <th>Role</th>\n",
       "      <th>Previous CTC</th>\n",
       "      <th>Previous job change</th>\n",
       "      <th>Graduation Marks</th>\n",
       "      <th>EXP (Month)</th>\n",
       "      <th>CTC</th>\n",
       "    </tr>\n",
       "  </thead>\n",
       "  <tbody>\n",
       "    <tr>\n",
       "      <th>0</th>\n",
       "      <td>2</td>\n",
       "      <td>Asansol</td>\n",
       "      <td>Manager</td>\n",
       "      <td>55523.0</td>\n",
       "      <td>3</td>\n",
       "      <td>66</td>\n",
       "      <td>19</td>\n",
       "      <td>71406.58</td>\n",
       "    </tr>\n",
       "    <tr>\n",
       "      <th>1</th>\n",
       "      <td>2</td>\n",
       "      <td>Ajmer</td>\n",
       "      <td>Executive</td>\n",
       "      <td>57081.0</td>\n",
       "      <td>1</td>\n",
       "      <td>84</td>\n",
       "      <td>18</td>\n",
       "      <td>68005.87</td>\n",
       "    </tr>\n",
       "    <tr>\n",
       "      <th>2</th>\n",
       "      <td>3</td>\n",
       "      <td>Rajpur Sonarpur</td>\n",
       "      <td>Executive</td>\n",
       "      <td>60347.0</td>\n",
       "      <td>2</td>\n",
       "      <td>52</td>\n",
       "      <td>28</td>\n",
       "      <td>76764.02</td>\n",
       "    </tr>\n",
       "    <tr>\n",
       "      <th>3</th>\n",
       "      <td>3</td>\n",
       "      <td>Ajmer</td>\n",
       "      <td>Executive</td>\n",
       "      <td>49010.0</td>\n",
       "      <td>2</td>\n",
       "      <td>81</td>\n",
       "      <td>33</td>\n",
       "      <td>82092.39</td>\n",
       "    </tr>\n",
       "    <tr>\n",
       "      <th>4</th>\n",
       "      <td>1</td>\n",
       "      <td>Durgapur</td>\n",
       "      <td>Executive</td>\n",
       "      <td>57879.0</td>\n",
       "      <td>4</td>\n",
       "      <td>74</td>\n",
       "      <td>32</td>\n",
       "      <td>73878.10</td>\n",
       "    </tr>\n",
       "    <tr>\n",
       "      <th>5</th>\n",
       "      <td>2</td>\n",
       "      <td>Kolhapur</td>\n",
       "      <td>Executive</td>\n",
       "      <td>54340.0</td>\n",
       "      <td>4</td>\n",
       "      <td>73</td>\n",
       "      <td>31</td>\n",
       "      <td>59950.89</td>\n",
       "    </tr>\n",
       "    <tr>\n",
       "      <th>6</th>\n",
       "      <td>3</td>\n",
       "      <td>Surat</td>\n",
       "      <td>Executive</td>\n",
       "      <td>60298.0</td>\n",
       "      <td>1</td>\n",
       "      <td>42</td>\n",
       "      <td>46</td>\n",
       "      <td>66602.34</td>\n",
       "    </tr>\n",
       "    <tr>\n",
       "      <th>7</th>\n",
       "      <td>2</td>\n",
       "      <td>Delhi</td>\n",
       "      <td>Executive</td>\n",
       "      <td>49944.0</td>\n",
       "      <td>2</td>\n",
       "      <td>56</td>\n",
       "      <td>37</td>\n",
       "      <td>57768.44</td>\n",
       "    </tr>\n",
       "    <tr>\n",
       "      <th>8</th>\n",
       "      <td>3</td>\n",
       "      <td>Chennai</td>\n",
       "      <td>Executive</td>\n",
       "      <td>53124.0</td>\n",
       "      <td>4</td>\n",
       "      <td>40</td>\n",
       "      <td>37</td>\n",
       "      <td>70083.30</td>\n",
       "    </tr>\n",
       "    <tr>\n",
       "      <th>9</th>\n",
       "      <td>1</td>\n",
       "      <td>Kolhapur</td>\n",
       "      <td>Executive</td>\n",
       "      <td>51141.0</td>\n",
       "      <td>1</td>\n",
       "      <td>47</td>\n",
       "      <td>60</td>\n",
       "      <td>85648.48</td>\n",
       "    </tr>\n",
       "  </tbody>\n",
       "</table>\n",
       "</div>"
      ],
      "text/plain": [
       "   College             City       Role  Previous CTC  Previous job change  \\\n",
       "0        2          Asansol    Manager       55523.0                    3   \n",
       "1        2            Ajmer  Executive       57081.0                    1   \n",
       "2        3  Rajpur Sonarpur  Executive       60347.0                    2   \n",
       "3        3            Ajmer  Executive       49010.0                    2   \n",
       "4        1         Durgapur  Executive       57879.0                    4   \n",
       "5        2         Kolhapur  Executive       54340.0                    4   \n",
       "6        3            Surat  Executive       60298.0                    1   \n",
       "7        2            Delhi  Executive       49944.0                    2   \n",
       "8        3          Chennai  Executive       53124.0                    4   \n",
       "9        1         Kolhapur  Executive       51141.0                    1   \n",
       "\n",
       "   Graduation Marks  EXP (Month)       CTC  \n",
       "0                66           19  71406.58  \n",
       "1                84           18  68005.87  \n",
       "2                52           28  76764.02  \n",
       "3                81           33  82092.39  \n",
       "4                74           32  73878.10  \n",
       "5                73           31  59950.89  \n",
       "6                42           46  66602.34  \n",
       "7                56           37  57768.44  \n",
       "8                40           37  70083.30  \n",
       "9                47           60  85648.48  "
      ]
     },
     "execution_count": 527,
     "metadata": {},
     "output_type": "execute_result"
    }
   ],
   "source": [
    "fp_df.head(10)"
   ]
  },
  {
   "cell_type": "code",
   "execution_count": 528,
   "id": "eb8e0cd9-c543-4b3e-bea3-edf484f30ce5",
   "metadata": {},
   "outputs": [
    {
     "data": {
      "text/html": [
       "<div>\n",
       "<style scoped>\n",
       "    .dataframe tbody tr th:only-of-type {\n",
       "        vertical-align: middle;\n",
       "    }\n",
       "\n",
       "    .dataframe tbody tr th {\n",
       "        vertical-align: top;\n",
       "    }\n",
       "\n",
       "    .dataframe thead th {\n",
       "        text-align: right;\n",
       "    }\n",
       "</style>\n",
       "<table border=\"1\" class=\"dataframe\">\n",
       "  <thead>\n",
       "    <tr style=\"text-align: right;\">\n",
       "      <th></th>\n",
       "      <th>Metrio City</th>\n",
       "      <th>non-metro cities</th>\n",
       "    </tr>\n",
       "  </thead>\n",
       "  <tbody>\n",
       "    <tr>\n",
       "      <th>0</th>\n",
       "      <td>Mumbai</td>\n",
       "      <td>Dehradun</td>\n",
       "    </tr>\n",
       "    <tr>\n",
       "      <th>1</th>\n",
       "      <td>Delhi</td>\n",
       "      <td>Durgapur</td>\n",
       "    </tr>\n",
       "    <tr>\n",
       "      <th>2</th>\n",
       "      <td>Kolkata</td>\n",
       "      <td>Asansol</td>\n",
       "    </tr>\n",
       "    <tr>\n",
       "      <th>3</th>\n",
       "      <td>Chennai</td>\n",
       "      <td>Rourkela</td>\n",
       "    </tr>\n",
       "    <tr>\n",
       "      <th>4</th>\n",
       "      <td>Bangalore</td>\n",
       "      <td>Kozhikode</td>\n",
       "    </tr>\n",
       "  </tbody>\n",
       "</table>\n",
       "</div>"
      ],
      "text/plain": [
       "  Metrio City non-metro cities\n",
       "0      Mumbai         Dehradun\n",
       "1       Delhi         Durgapur\n",
       "2     Kolkata          Asansol\n",
       "3     Chennai         Rourkela\n",
       "4   Bangalore        Kozhikode"
      ]
     },
     "execution_count": 528,
     "metadata": {},
     "output_type": "execute_result"
    }
   ],
   "source": [
    "cities_data.head()"
   ]
  },
  {
   "cell_type": "markdown",
   "id": "064864a9-c3e9-4cb5-b3b3-16993fc7dfea",
   "metadata": {},
   "source": [
    "Convert the each of the columns present in cities_data to a separate list."
   ]
  },
  {
   "cell_type": "code",
   "execution_count": 530,
   "id": "d8ca6019-d435-41cc-9e8d-6e116452b934",
   "metadata": {},
   "outputs": [],
   "source": [
    "Metro = cities_data[\"Metrio City\"].tolist()\n",
    "Non_Metro = cities_data[\"non-metro cities\"].tolist()"
   ]
  },
  {
   "cell_type": "markdown",
   "id": "9187f46c-44ff-49d9-889a-86d44f4c8872",
   "metadata": {},
   "source": [
    "Below code checks if the city is a metro city or non-metro and then replaces the city name with numeric values 0 or 1."
   ]
  },
  {
   "cell_type": "code",
   "execution_count": 532,
   "id": "2aa3c97b-09d5-4fe8-8d18-bb2b499930cc",
   "metadata": {},
   "outputs": [],
   "source": [
    "for item in fp_df.City:\n",
    "    if item in Metro:\n",
    "        fp_df[\"City\"].replace(item,0,inplace=True)\n",
    "    elif item in Non_Metro:\n",
    "        fp_df[\"City\"].replace(item,1,inplace=True)"
   ]
  },
  {
   "cell_type": "markdown",
   "id": "8fd6561c-4958-4f4e-b9d3-797757184c45",
   "metadata": {},
   "source": [
    "Print the first 10 rows from the fp_df to check if the categorical value for the column City is changed to numerical value"
   ]
  },
  {
   "cell_type": "code",
   "execution_count": 534,
   "id": "e7f6b09a-1547-4a44-b6d3-accd2c602dc3",
   "metadata": {},
   "outputs": [
    {
     "data": {
      "text/html": [
       "<div>\n",
       "<style scoped>\n",
       "    .dataframe tbody tr th:only-of-type {\n",
       "        vertical-align: middle;\n",
       "    }\n",
       "\n",
       "    .dataframe tbody tr th {\n",
       "        vertical-align: top;\n",
       "    }\n",
       "\n",
       "    .dataframe thead th {\n",
       "        text-align: right;\n",
       "    }\n",
       "</style>\n",
       "<table border=\"1\" class=\"dataframe\">\n",
       "  <thead>\n",
       "    <tr style=\"text-align: right;\">\n",
       "      <th></th>\n",
       "      <th>College</th>\n",
       "      <th>City</th>\n",
       "      <th>Role</th>\n",
       "      <th>Previous CTC</th>\n",
       "      <th>Previous job change</th>\n",
       "      <th>Graduation Marks</th>\n",
       "      <th>EXP (Month)</th>\n",
       "      <th>CTC</th>\n",
       "    </tr>\n",
       "  </thead>\n",
       "  <tbody>\n",
       "    <tr>\n",
       "      <th>0</th>\n",
       "      <td>2</td>\n",
       "      <td>1</td>\n",
       "      <td>Manager</td>\n",
       "      <td>55523.0</td>\n",
       "      <td>3</td>\n",
       "      <td>66</td>\n",
       "      <td>19</td>\n",
       "      <td>71406.58</td>\n",
       "    </tr>\n",
       "    <tr>\n",
       "      <th>1</th>\n",
       "      <td>2</td>\n",
       "      <td>1</td>\n",
       "      <td>Executive</td>\n",
       "      <td>57081.0</td>\n",
       "      <td>1</td>\n",
       "      <td>84</td>\n",
       "      <td>18</td>\n",
       "      <td>68005.87</td>\n",
       "    </tr>\n",
       "    <tr>\n",
       "      <th>2</th>\n",
       "      <td>3</td>\n",
       "      <td>1</td>\n",
       "      <td>Executive</td>\n",
       "      <td>60347.0</td>\n",
       "      <td>2</td>\n",
       "      <td>52</td>\n",
       "      <td>28</td>\n",
       "      <td>76764.02</td>\n",
       "    </tr>\n",
       "    <tr>\n",
       "      <th>3</th>\n",
       "      <td>3</td>\n",
       "      <td>1</td>\n",
       "      <td>Executive</td>\n",
       "      <td>49010.0</td>\n",
       "      <td>2</td>\n",
       "      <td>81</td>\n",
       "      <td>33</td>\n",
       "      <td>82092.39</td>\n",
       "    </tr>\n",
       "    <tr>\n",
       "      <th>4</th>\n",
       "      <td>1</td>\n",
       "      <td>1</td>\n",
       "      <td>Executive</td>\n",
       "      <td>57879.0</td>\n",
       "      <td>4</td>\n",
       "      <td>74</td>\n",
       "      <td>32</td>\n",
       "      <td>73878.10</td>\n",
       "    </tr>\n",
       "    <tr>\n",
       "      <th>5</th>\n",
       "      <td>2</td>\n",
       "      <td>1</td>\n",
       "      <td>Executive</td>\n",
       "      <td>54340.0</td>\n",
       "      <td>4</td>\n",
       "      <td>73</td>\n",
       "      <td>31</td>\n",
       "      <td>59950.89</td>\n",
       "    </tr>\n",
       "    <tr>\n",
       "      <th>6</th>\n",
       "      <td>3</td>\n",
       "      <td>0</td>\n",
       "      <td>Executive</td>\n",
       "      <td>60298.0</td>\n",
       "      <td>1</td>\n",
       "      <td>42</td>\n",
       "      <td>46</td>\n",
       "      <td>66602.34</td>\n",
       "    </tr>\n",
       "    <tr>\n",
       "      <th>7</th>\n",
       "      <td>2</td>\n",
       "      <td>0</td>\n",
       "      <td>Executive</td>\n",
       "      <td>49944.0</td>\n",
       "      <td>2</td>\n",
       "      <td>56</td>\n",
       "      <td>37</td>\n",
       "      <td>57768.44</td>\n",
       "    </tr>\n",
       "    <tr>\n",
       "      <th>8</th>\n",
       "      <td>3</td>\n",
       "      <td>0</td>\n",
       "      <td>Executive</td>\n",
       "      <td>53124.0</td>\n",
       "      <td>4</td>\n",
       "      <td>40</td>\n",
       "      <td>37</td>\n",
       "      <td>70083.30</td>\n",
       "    </tr>\n",
       "    <tr>\n",
       "      <th>9</th>\n",
       "      <td>1</td>\n",
       "      <td>1</td>\n",
       "      <td>Executive</td>\n",
       "      <td>51141.0</td>\n",
       "      <td>1</td>\n",
       "      <td>47</td>\n",
       "      <td>60</td>\n",
       "      <td>85648.48</td>\n",
       "    </tr>\n",
       "  </tbody>\n",
       "</table>\n",
       "</div>"
      ],
      "text/plain": [
       "   College  City       Role  Previous CTC  Previous job change  \\\n",
       "0        2     1    Manager       55523.0                    3   \n",
       "1        2     1  Executive       57081.0                    1   \n",
       "2        3     1  Executive       60347.0                    2   \n",
       "3        3     1  Executive       49010.0                    2   \n",
       "4        1     1  Executive       57879.0                    4   \n",
       "5        2     1  Executive       54340.0                    4   \n",
       "6        3     0  Executive       60298.0                    1   \n",
       "7        2     0  Executive       49944.0                    2   \n",
       "8        3     0  Executive       53124.0                    4   \n",
       "9        1     1  Executive       51141.0                    1   \n",
       "\n",
       "   Graduation Marks  EXP (Month)       CTC  \n",
       "0                66           19  71406.58  \n",
       "1                84           18  68005.87  \n",
       "2                52           28  76764.02  \n",
       "3                81           33  82092.39  \n",
       "4                74           32  73878.10  \n",
       "5                73           31  59950.89  \n",
       "6                42           46  66602.34  \n",
       "7                56           37  57768.44  \n",
       "8                40           37  70083.30  \n",
       "9                47           60  85648.48  "
      ]
     },
     "execution_count": 534,
     "metadata": {},
     "output_type": "execute_result"
    }
   ],
   "source": [
    "fp_df.head(10)"
   ]
  },
  {
   "cell_type": "code",
   "execution_count": 535,
   "id": "5426f065-d4e0-4017-b8db-f683e5e7caf3",
   "metadata": {},
   "outputs": [],
   "source": [
    "fp_df = pd.get_dummies(data=fp_df, drop_first=True, dtype=int)"
   ]
  },
  {
   "cell_type": "code",
   "execution_count": 536,
   "id": "13ba8dff-f54c-4c25-8616-5e3d71d1dc32",
   "metadata": {},
   "outputs": [
    {
     "data": {
      "text/html": [
       "<div>\n",
       "<style scoped>\n",
       "    .dataframe tbody tr th:only-of-type {\n",
       "        vertical-align: middle;\n",
       "    }\n",
       "\n",
       "    .dataframe tbody tr th {\n",
       "        vertical-align: top;\n",
       "    }\n",
       "\n",
       "    .dataframe thead th {\n",
       "        text-align: right;\n",
       "    }\n",
       "</style>\n",
       "<table border=\"1\" class=\"dataframe\">\n",
       "  <thead>\n",
       "    <tr style=\"text-align: right;\">\n",
       "      <th></th>\n",
       "      <th>College</th>\n",
       "      <th>City</th>\n",
       "      <th>Previous CTC</th>\n",
       "      <th>Previous job change</th>\n",
       "      <th>Graduation Marks</th>\n",
       "      <th>EXP (Month)</th>\n",
       "      <th>CTC</th>\n",
       "      <th>Role_Manager</th>\n",
       "    </tr>\n",
       "  </thead>\n",
       "  <tbody>\n",
       "    <tr>\n",
       "      <th>0</th>\n",
       "      <td>2</td>\n",
       "      <td>1</td>\n",
       "      <td>55523.0</td>\n",
       "      <td>3</td>\n",
       "      <td>66</td>\n",
       "      <td>19</td>\n",
       "      <td>71406.58</td>\n",
       "      <td>1</td>\n",
       "    </tr>\n",
       "    <tr>\n",
       "      <th>1</th>\n",
       "      <td>2</td>\n",
       "      <td>1</td>\n",
       "      <td>57081.0</td>\n",
       "      <td>1</td>\n",
       "      <td>84</td>\n",
       "      <td>18</td>\n",
       "      <td>68005.87</td>\n",
       "      <td>0</td>\n",
       "    </tr>\n",
       "    <tr>\n",
       "      <th>2</th>\n",
       "      <td>3</td>\n",
       "      <td>1</td>\n",
       "      <td>60347.0</td>\n",
       "      <td>2</td>\n",
       "      <td>52</td>\n",
       "      <td>28</td>\n",
       "      <td>76764.02</td>\n",
       "      <td>0</td>\n",
       "    </tr>\n",
       "    <tr>\n",
       "      <th>3</th>\n",
       "      <td>3</td>\n",
       "      <td>1</td>\n",
       "      <td>49010.0</td>\n",
       "      <td>2</td>\n",
       "      <td>81</td>\n",
       "      <td>33</td>\n",
       "      <td>82092.39</td>\n",
       "      <td>0</td>\n",
       "    </tr>\n",
       "    <tr>\n",
       "      <th>4</th>\n",
       "      <td>1</td>\n",
       "      <td>1</td>\n",
       "      <td>57879.0</td>\n",
       "      <td>4</td>\n",
       "      <td>74</td>\n",
       "      <td>32</td>\n",
       "      <td>73878.10</td>\n",
       "      <td>0</td>\n",
       "    </tr>\n",
       "    <tr>\n",
       "      <th>5</th>\n",
       "      <td>2</td>\n",
       "      <td>1</td>\n",
       "      <td>54340.0</td>\n",
       "      <td>4</td>\n",
       "      <td>73</td>\n",
       "      <td>31</td>\n",
       "      <td>59950.89</td>\n",
       "      <td>0</td>\n",
       "    </tr>\n",
       "    <tr>\n",
       "      <th>6</th>\n",
       "      <td>3</td>\n",
       "      <td>0</td>\n",
       "      <td>60298.0</td>\n",
       "      <td>1</td>\n",
       "      <td>42</td>\n",
       "      <td>46</td>\n",
       "      <td>66602.34</td>\n",
       "      <td>0</td>\n",
       "    </tr>\n",
       "    <tr>\n",
       "      <th>7</th>\n",
       "      <td>2</td>\n",
       "      <td>0</td>\n",
       "      <td>49944.0</td>\n",
       "      <td>2</td>\n",
       "      <td>56</td>\n",
       "      <td>37</td>\n",
       "      <td>57768.44</td>\n",
       "      <td>0</td>\n",
       "    </tr>\n",
       "    <tr>\n",
       "      <th>8</th>\n",
       "      <td>3</td>\n",
       "      <td>0</td>\n",
       "      <td>53124.0</td>\n",
       "      <td>4</td>\n",
       "      <td>40</td>\n",
       "      <td>37</td>\n",
       "      <td>70083.30</td>\n",
       "      <td>0</td>\n",
       "    </tr>\n",
       "    <tr>\n",
       "      <th>9</th>\n",
       "      <td>1</td>\n",
       "      <td>1</td>\n",
       "      <td>51141.0</td>\n",
       "      <td>1</td>\n",
       "      <td>47</td>\n",
       "      <td>60</td>\n",
       "      <td>85648.48</td>\n",
       "      <td>0</td>\n",
       "    </tr>\n",
       "  </tbody>\n",
       "</table>\n",
       "</div>"
      ],
      "text/plain": [
       "   College  City  Previous CTC  Previous job change  Graduation Marks  \\\n",
       "0        2     1       55523.0                    3                66   \n",
       "1        2     1       57081.0                    1                84   \n",
       "2        3     1       60347.0                    2                52   \n",
       "3        3     1       49010.0                    2                81   \n",
       "4        1     1       57879.0                    4                74   \n",
       "5        2     1       54340.0                    4                73   \n",
       "6        3     0       60298.0                    1                42   \n",
       "7        2     0       49944.0                    2                56   \n",
       "8        3     0       53124.0                    4                40   \n",
       "9        1     1       51141.0                    1                47   \n",
       "\n",
       "   EXP (Month)       CTC  Role_Manager  \n",
       "0           19  71406.58             1  \n",
       "1           18  68005.87             0  \n",
       "2           28  76764.02             0  \n",
       "3           33  82092.39             0  \n",
       "4           32  73878.10             0  \n",
       "5           31  59950.89             0  \n",
       "6           46  66602.34             0  \n",
       "7           37  57768.44             0  \n",
       "8           37  70083.30             0  \n",
       "9           60  85648.48             0  "
      ]
     },
     "execution_count": 536,
     "metadata": {},
     "output_type": "execute_result"
    }
   ],
   "source": [
    "fp_df.head(10)"
   ]
  },
  {
   "cell_type": "markdown",
   "id": "18403126-a1b7-49a7-adea-a0741254682b",
   "metadata": {},
   "source": [
    "### Check the correlation between the variables"
   ]
  },
  {
   "cell_type": "code",
   "execution_count": 538,
   "id": "58a572f5-d80b-41e0-a892-396fcf89e122",
   "metadata": {},
   "outputs": [
    {
     "data": {
      "text/html": [
       "<div>\n",
       "<style scoped>\n",
       "    .dataframe tbody tr th:only-of-type {\n",
       "        vertical-align: middle;\n",
       "    }\n",
       "\n",
       "    .dataframe tbody tr th {\n",
       "        vertical-align: top;\n",
       "    }\n",
       "\n",
       "    .dataframe thead th {\n",
       "        text-align: right;\n",
       "    }\n",
       "</style>\n",
       "<table border=\"1\" class=\"dataframe\">\n",
       "  <thead>\n",
       "    <tr style=\"text-align: right;\">\n",
       "      <th></th>\n",
       "      <th>College</th>\n",
       "      <th>City</th>\n",
       "      <th>Previous CTC</th>\n",
       "      <th>Previous job change</th>\n",
       "      <th>Graduation Marks</th>\n",
       "      <th>EXP (Month)</th>\n",
       "      <th>CTC</th>\n",
       "      <th>Role_Manager</th>\n",
       "    </tr>\n",
       "  </thead>\n",
       "  <tbody>\n",
       "    <tr>\n",
       "      <th>College</th>\n",
       "      <td>1.000000</td>\n",
       "      <td>0.014946</td>\n",
       "      <td>0.041979</td>\n",
       "      <td>-0.055060</td>\n",
       "      <td>0.003539</td>\n",
       "      <td>0.011752</td>\n",
       "      <td>-0.029592</td>\n",
       "      <td>-0.014749</td>\n",
       "    </tr>\n",
       "    <tr>\n",
       "      <th>City</th>\n",
       "      <td>0.014946</td>\n",
       "      <td>1.000000</td>\n",
       "      <td>-0.004644</td>\n",
       "      <td>-0.051670</td>\n",
       "      <td>0.018616</td>\n",
       "      <td>0.023613</td>\n",
       "      <td>0.020365</td>\n",
       "      <td>0.048671</td>\n",
       "    </tr>\n",
       "    <tr>\n",
       "      <th>Previous CTC</th>\n",
       "      <td>0.041979</td>\n",
       "      <td>-0.004644</td>\n",
       "      <td>1.000000</td>\n",
       "      <td>0.005756</td>\n",
       "      <td>-0.032976</td>\n",
       "      <td>0.119163</td>\n",
       "      <td>0.258000</td>\n",
       "      <td>0.012321</td>\n",
       "    </tr>\n",
       "    <tr>\n",
       "      <th>Previous job change</th>\n",
       "      <td>-0.055060</td>\n",
       "      <td>-0.051670</td>\n",
       "      <td>0.005756</td>\n",
       "      <td>1.000000</td>\n",
       "      <td>0.019267</td>\n",
       "      <td>0.023488</td>\n",
       "      <td>0.011370</td>\n",
       "      <td>-0.017150</td>\n",
       "    </tr>\n",
       "    <tr>\n",
       "      <th>Graduation Marks</th>\n",
       "      <td>0.003539</td>\n",
       "      <td>0.018616</td>\n",
       "      <td>-0.032976</td>\n",
       "      <td>0.019267</td>\n",
       "      <td>1.000000</td>\n",
       "      <td>-0.057061</td>\n",
       "      <td>-0.005450</td>\n",
       "      <td>0.017858</td>\n",
       "    </tr>\n",
       "    <tr>\n",
       "      <th>EXP (Month)</th>\n",
       "      <td>0.011752</td>\n",
       "      <td>0.023613</td>\n",
       "      <td>0.119163</td>\n",
       "      <td>0.023488</td>\n",
       "      <td>-0.057061</td>\n",
       "      <td>1.000000</td>\n",
       "      <td>0.301115</td>\n",
       "      <td>-0.026751</td>\n",
       "    </tr>\n",
       "    <tr>\n",
       "      <th>CTC</th>\n",
       "      <td>-0.029592</td>\n",
       "      <td>0.020365</td>\n",
       "      <td>0.258000</td>\n",
       "      <td>0.011370</td>\n",
       "      <td>-0.005450</td>\n",
       "      <td>0.301115</td>\n",
       "      <td>1.000000</td>\n",
       "      <td>0.621311</td>\n",
       "    </tr>\n",
       "    <tr>\n",
       "      <th>Role_Manager</th>\n",
       "      <td>-0.014749</td>\n",
       "      <td>0.048671</td>\n",
       "      <td>0.012321</td>\n",
       "      <td>-0.017150</td>\n",
       "      <td>0.017858</td>\n",
       "      <td>-0.026751</td>\n",
       "      <td>0.621311</td>\n",
       "      <td>1.000000</td>\n",
       "    </tr>\n",
       "  </tbody>\n",
       "</table>\n",
       "</div>"
      ],
      "text/plain": [
       "                      College      City  Previous CTC  Previous job change  \\\n",
       "College              1.000000  0.014946      0.041979            -0.055060   \n",
       "City                 0.014946  1.000000     -0.004644            -0.051670   \n",
       "Previous CTC         0.041979 -0.004644      1.000000             0.005756   \n",
       "Previous job change -0.055060 -0.051670      0.005756             1.000000   \n",
       "Graduation Marks     0.003539  0.018616     -0.032976             0.019267   \n",
       "EXP (Month)          0.011752  0.023613      0.119163             0.023488   \n",
       "CTC                 -0.029592  0.020365      0.258000             0.011370   \n",
       "Role_Manager        -0.014749  0.048671      0.012321            -0.017150   \n",
       "\n",
       "                     Graduation Marks  EXP (Month)       CTC  Role_Manager  \n",
       "College                      0.003539     0.011752 -0.029592     -0.014749  \n",
       "City                         0.018616     0.023613  0.020365      0.048671  \n",
       "Previous CTC                -0.032976     0.119163  0.258000      0.012321  \n",
       "Previous job change          0.019267     0.023488  0.011370     -0.017150  \n",
       "Graduation Marks             1.000000    -0.057061 -0.005450      0.017858  \n",
       "EXP (Month)                 -0.057061     1.000000  0.301115     -0.026751  \n",
       "CTC                         -0.005450     0.301115  1.000000      0.621311  \n",
       "Role_Manager                 0.017858    -0.026751  0.621311      1.000000  "
      ]
     },
     "execution_count": 538,
     "metadata": {},
     "output_type": "execute_result"
    }
   ],
   "source": [
    "fp_df.corr()"
   ]
  },
  {
   "cell_type": "markdown",
   "id": "f17eb250-bb21-4363-aaf1-7cf64dc9e151",
   "metadata": {},
   "source": [
    "### Correlation Analysis\n",
    "\n",
    "Based on the output of fp_df.corr(),\n",
    "We see that graduation marks is not related to CTC.\n",
    "Also, College and City has very low correlation with CTC."
   ]
  },
  {
   "cell_type": "markdown",
   "id": "080d3a4c-10ab-4cf6-84c1-52e77c06cb13",
   "metadata": {},
   "source": [
    "### Outliers Treatment"
   ]
  },
  {
   "cell_type": "markdown",
   "id": "9939b736-5f2f-4d0f-bd0a-95a78eb889de",
   "metadata": {},
   "source": [
    "I have used Flooring and capping method for Outliers Treatment.\n",
    "\n",
    "Outliers treatment is done only for the column \"Previous CTC\".\n",
    "\n",
    "Since the standard deviation is high only for this column.\n",
    "Also, the difference between the mean and the 50th percentile value is significantly higher."
   ]
  },
  {
   "cell_type": "code",
   "execution_count": 542,
   "id": "3a246d2d-aa14-429d-94fe-937b4152e25c",
   "metadata": {},
   "outputs": [],
   "source": [
    "uv = np.percentile(fp_df['Previous CTC'],[99])[0]"
   ]
  },
  {
   "cell_type": "code",
   "execution_count": 543,
   "id": "a2368d89-5c13-4225-b471-8938fd19e3ad",
   "metadata": {},
   "outputs": [
    {
     "name": "stdout",
     "output_type": "stream",
     "text": [
      "71506.92\n"
     ]
    }
   ],
   "source": [
    "print(uv)"
   ]
  },
  {
   "cell_type": "code",
   "execution_count": 544,
   "id": "8752268d-975b-4820-bd87-a7a02ecf9311",
   "metadata": {},
   "outputs": [
    {
     "data": {
      "text/html": [
       "<div>\n",
       "<style scoped>\n",
       "    .dataframe tbody tr th:only-of-type {\n",
       "        vertical-align: middle;\n",
       "    }\n",
       "\n",
       "    .dataframe tbody tr th {\n",
       "        vertical-align: top;\n",
       "    }\n",
       "\n",
       "    .dataframe thead th {\n",
       "        text-align: right;\n",
       "    }\n",
       "</style>\n",
       "<table border=\"1\" class=\"dataframe\">\n",
       "  <thead>\n",
       "    <tr style=\"text-align: right;\">\n",
       "      <th></th>\n",
       "      <th>College</th>\n",
       "      <th>City</th>\n",
       "      <th>Previous CTC</th>\n",
       "      <th>Previous job change</th>\n",
       "      <th>Graduation Marks</th>\n",
       "      <th>EXP (Month)</th>\n",
       "      <th>CTC</th>\n",
       "      <th>Role_Manager</th>\n",
       "    </tr>\n",
       "  </thead>\n",
       "  <tbody>\n",
       "    <tr>\n",
       "      <th>116</th>\n",
       "      <td>3</td>\n",
       "      <td>0</td>\n",
       "      <td>77911.0</td>\n",
       "      <td>1</td>\n",
       "      <td>50</td>\n",
       "      <td>58</td>\n",
       "      <td>87831.62</td>\n",
       "      <td>0</td>\n",
       "    </tr>\n",
       "    <tr>\n",
       "      <th>292</th>\n",
       "      <td>3</td>\n",
       "      <td>1</td>\n",
       "      <td>74198.0</td>\n",
       "      <td>1</td>\n",
       "      <td>57</td>\n",
       "      <td>25</td>\n",
       "      <td>99644.51</td>\n",
       "      <td>1</td>\n",
       "    </tr>\n",
       "    <tr>\n",
       "      <th>543</th>\n",
       "      <td>1</td>\n",
       "      <td>0</td>\n",
       "      <td>73856.0</td>\n",
       "      <td>1</td>\n",
       "      <td>75</td>\n",
       "      <td>54</td>\n",
       "      <td>121362.73</td>\n",
       "      <td>1</td>\n",
       "    </tr>\n",
       "    <tr>\n",
       "      <th>572</th>\n",
       "      <td>1</td>\n",
       "      <td>0</td>\n",
       "      <td>71543.0</td>\n",
       "      <td>4</td>\n",
       "      <td>82</td>\n",
       "      <td>30</td>\n",
       "      <td>61366.78</td>\n",
       "      <td>0</td>\n",
       "    </tr>\n",
       "    <tr>\n",
       "      <th>701</th>\n",
       "      <td>2</td>\n",
       "      <td>1</td>\n",
       "      <td>71549.0</td>\n",
       "      <td>4</td>\n",
       "      <td>47</td>\n",
       "      <td>50</td>\n",
       "      <td>83116.21</td>\n",
       "      <td>0</td>\n",
       "    </tr>\n",
       "    <tr>\n",
       "      <th>847</th>\n",
       "      <td>1</td>\n",
       "      <td>0</td>\n",
       "      <td>71756.0</td>\n",
       "      <td>4</td>\n",
       "      <td>67</td>\n",
       "      <td>23</td>\n",
       "      <td>72141.43</td>\n",
       "      <td>0</td>\n",
       "    </tr>\n",
       "    <tr>\n",
       "      <th>860</th>\n",
       "      <td>1</td>\n",
       "      <td>0</td>\n",
       "      <td>75785.0</td>\n",
       "      <td>4</td>\n",
       "      <td>63</td>\n",
       "      <td>37</td>\n",
       "      <td>110338.25</td>\n",
       "      <td>1</td>\n",
       "    </tr>\n",
       "    <tr>\n",
       "      <th>941</th>\n",
       "      <td>3</td>\n",
       "      <td>0</td>\n",
       "      <td>72319.0</td>\n",
       "      <td>1</td>\n",
       "      <td>51</td>\n",
       "      <td>50</td>\n",
       "      <td>63538.43</td>\n",
       "      <td>0</td>\n",
       "    </tr>\n",
       "    <tr>\n",
       "      <th>1024</th>\n",
       "      <td>1</td>\n",
       "      <td>0</td>\n",
       "      <td>72661.0</td>\n",
       "      <td>3</td>\n",
       "      <td>74</td>\n",
       "      <td>47</td>\n",
       "      <td>70238.70</td>\n",
       "      <td>0</td>\n",
       "    </tr>\n",
       "    <tr>\n",
       "      <th>1047</th>\n",
       "      <td>1</td>\n",
       "      <td>1</td>\n",
       "      <td>73214.0</td>\n",
       "      <td>4</td>\n",
       "      <td>57</td>\n",
       "      <td>22</td>\n",
       "      <td>100119.53</td>\n",
       "      <td>1</td>\n",
       "    </tr>\n",
       "    <tr>\n",
       "      <th>1067</th>\n",
       "      <td>3</td>\n",
       "      <td>1</td>\n",
       "      <td>71760.0</td>\n",
       "      <td>4</td>\n",
       "      <td>40</td>\n",
       "      <td>39</td>\n",
       "      <td>71187.52</td>\n",
       "      <td>0</td>\n",
       "    </tr>\n",
       "    <tr>\n",
       "      <th>1088</th>\n",
       "      <td>3</td>\n",
       "      <td>0</td>\n",
       "      <td>76815.0</td>\n",
       "      <td>4</td>\n",
       "      <td>75</td>\n",
       "      <td>52</td>\n",
       "      <td>82684.17</td>\n",
       "      <td>0</td>\n",
       "    </tr>\n",
       "    <tr>\n",
       "      <th>1131</th>\n",
       "      <td>2</td>\n",
       "      <td>0</td>\n",
       "      <td>74256.0</td>\n",
       "      <td>2</td>\n",
       "      <td>40</td>\n",
       "      <td>27</td>\n",
       "      <td>83023.18</td>\n",
       "      <td>0</td>\n",
       "    </tr>\n",
       "    <tr>\n",
       "      <th>1317</th>\n",
       "      <td>1</td>\n",
       "      <td>1</td>\n",
       "      <td>76070.0</td>\n",
       "      <td>2</td>\n",
       "      <td>54</td>\n",
       "      <td>18</td>\n",
       "      <td>58309.56</td>\n",
       "      <td>0</td>\n",
       "    </tr>\n",
       "    <tr>\n",
       "      <th>1332</th>\n",
       "      <td>3</td>\n",
       "      <td>0</td>\n",
       "      <td>72649.0</td>\n",
       "      <td>3</td>\n",
       "      <td>69</td>\n",
       "      <td>52</td>\n",
       "      <td>78861.46</td>\n",
       "      <td>0</td>\n",
       "    </tr>\n",
       "    <tr>\n",
       "      <th>1454</th>\n",
       "      <td>1</td>\n",
       "      <td>0</td>\n",
       "      <td>77911.0</td>\n",
       "      <td>1</td>\n",
       "      <td>50</td>\n",
       "      <td>58</td>\n",
       "      <td>87831.62</td>\n",
       "      <td>0</td>\n",
       "    </tr>\n",
       "  </tbody>\n",
       "</table>\n",
       "</div>"
      ],
      "text/plain": [
       "      College  City  Previous CTC  Previous job change  Graduation Marks  \\\n",
       "116         3     0       77911.0                    1                50   \n",
       "292         3     1       74198.0                    1                57   \n",
       "543         1     0       73856.0                    1                75   \n",
       "572         1     0       71543.0                    4                82   \n",
       "701         2     1       71549.0                    4                47   \n",
       "847         1     0       71756.0                    4                67   \n",
       "860         1     0       75785.0                    4                63   \n",
       "941         3     0       72319.0                    1                51   \n",
       "1024        1     0       72661.0                    3                74   \n",
       "1047        1     1       73214.0                    4                57   \n",
       "1067        3     1       71760.0                    4                40   \n",
       "1088        3     0       76815.0                    4                75   \n",
       "1131        2     0       74256.0                    2                40   \n",
       "1317        1     1       76070.0                    2                54   \n",
       "1332        3     0       72649.0                    3                69   \n",
       "1454        1     0       77911.0                    1                50   \n",
       "\n",
       "      EXP (Month)        CTC  Role_Manager  \n",
       "116            58   87831.62             0  \n",
       "292            25   99644.51             1  \n",
       "543            54  121362.73             1  \n",
       "572            30   61366.78             0  \n",
       "701            50   83116.21             0  \n",
       "847            23   72141.43             0  \n",
       "860            37  110338.25             1  \n",
       "941            50   63538.43             0  \n",
       "1024           47   70238.70             0  \n",
       "1047           22  100119.53             1  \n",
       "1067           39   71187.52             0  \n",
       "1088           52   82684.17             0  \n",
       "1131           27   83023.18             0  \n",
       "1317           18   58309.56             0  \n",
       "1332           52   78861.46             0  \n",
       "1454           58   87831.62             0  "
      ]
     },
     "execution_count": 544,
     "metadata": {},
     "output_type": "execute_result"
    }
   ],
   "source": [
    "fp_df[fp_df['Previous CTC'] > uv]"
   ]
  },
  {
   "cell_type": "code",
   "execution_count": 545,
   "id": "27551202-5121-421b-b10a-a0eedd40b7bb",
   "metadata": {},
   "outputs": [
    {
     "data": {
      "text/html": [
       "<div>\n",
       "<style scoped>\n",
       "    .dataframe tbody tr th:only-of-type {\n",
       "        vertical-align: middle;\n",
       "    }\n",
       "\n",
       "    .dataframe tbody tr th {\n",
       "        vertical-align: top;\n",
       "    }\n",
       "\n",
       "    .dataframe thead th {\n",
       "        text-align: right;\n",
       "    }\n",
       "</style>\n",
       "<table border=\"1\" class=\"dataframe\">\n",
       "  <thead>\n",
       "    <tr style=\"text-align: right;\">\n",
       "      <th></th>\n",
       "      <th>College</th>\n",
       "      <th>City</th>\n",
       "      <th>Previous CTC</th>\n",
       "      <th>Previous job change</th>\n",
       "      <th>Graduation Marks</th>\n",
       "      <th>EXP (Month)</th>\n",
       "      <th>CTC</th>\n",
       "      <th>Role_Manager</th>\n",
       "    </tr>\n",
       "  </thead>\n",
       "  <tbody>\n",
       "  </tbody>\n",
       "</table>\n",
       "</div>"
      ],
      "text/plain": [
       "Empty DataFrame\n",
       "Columns: [College, City, Previous CTC, Previous job change, Graduation Marks, EXP (Month), CTC, Role_Manager]\n",
       "Index: []"
      ]
     },
     "execution_count": 545,
     "metadata": {},
     "output_type": "execute_result"
    }
   ],
   "source": [
    "fp_df[fp_df['Previous CTC'] > 3*uv]"
   ]
  },
  {
   "cell_type": "markdown",
   "id": "6a5ce220-d05a-4e85-ad63-9547424877b9",
   "metadata": {},
   "source": [
    "Since there is no rows that is greater than 3 times the 99th percentile, we do not have to modify any rows."
   ]
  },
  {
   "cell_type": "code",
   "execution_count": 547,
   "id": "4aff15f7-a819-4510-bfa5-ae056c48b539",
   "metadata": {},
   "outputs": [],
   "source": [
    "lv = np.percentile(fp_df['Previous CTC'],[1])[0]"
   ]
  },
  {
   "cell_type": "code",
   "execution_count": 548,
   "id": "1f80ad0f-340f-4623-b568-c5943f8a0933",
   "metadata": {},
   "outputs": [
    {
     "name": "stdout",
     "output_type": "stream",
     "text": [
      "41587.92\n"
     ]
    }
   ],
   "source": [
    "print(lv)"
   ]
  },
  {
   "cell_type": "code",
   "execution_count": 549,
   "id": "a0d48a77-c2df-4431-bf73-d407f4f4770a",
   "metadata": {},
   "outputs": [
    {
     "data": {
      "text/html": [
       "<div>\n",
       "<style scoped>\n",
       "    .dataframe tbody tr th:only-of-type {\n",
       "        vertical-align: middle;\n",
       "    }\n",
       "\n",
       "    .dataframe tbody tr th {\n",
       "        vertical-align: top;\n",
       "    }\n",
       "\n",
       "    .dataframe thead th {\n",
       "        text-align: right;\n",
       "    }\n",
       "</style>\n",
       "<table border=\"1\" class=\"dataframe\">\n",
       "  <thead>\n",
       "    <tr style=\"text-align: right;\">\n",
       "      <th></th>\n",
       "      <th>College</th>\n",
       "      <th>City</th>\n",
       "      <th>Previous CTC</th>\n",
       "      <th>Previous job change</th>\n",
       "      <th>Graduation Marks</th>\n",
       "      <th>EXP (Month)</th>\n",
       "      <th>CTC</th>\n",
       "      <th>Role_Manager</th>\n",
       "    </tr>\n",
       "  </thead>\n",
       "  <tbody>\n",
       "    <tr>\n",
       "      <th>28</th>\n",
       "      <td>2</td>\n",
       "      <td>0</td>\n",
       "      <td>39636.0</td>\n",
       "      <td>3</td>\n",
       "      <td>43</td>\n",
       "      <td>23</td>\n",
       "      <td>59230.44</td>\n",
       "      <td>0</td>\n",
       "    </tr>\n",
       "    <tr>\n",
       "      <th>98</th>\n",
       "      <td>1</td>\n",
       "      <td>1</td>\n",
       "      <td>41228.0</td>\n",
       "      <td>2</td>\n",
       "      <td>64</td>\n",
       "      <td>56</td>\n",
       "      <td>87418.05</td>\n",
       "      <td>1</td>\n",
       "    </tr>\n",
       "    <tr>\n",
       "      <th>99</th>\n",
       "      <td>1</td>\n",
       "      <td>1</td>\n",
       "      <td>40945.0</td>\n",
       "      <td>1</td>\n",
       "      <td>46</td>\n",
       "      <td>38</td>\n",
       "      <td>74984.02</td>\n",
       "      <td>1</td>\n",
       "    </tr>\n",
       "    <tr>\n",
       "      <th>172</th>\n",
       "      <td>3</td>\n",
       "      <td>1</td>\n",
       "      <td>38709.0</td>\n",
       "      <td>3</td>\n",
       "      <td>56</td>\n",
       "      <td>18</td>\n",
       "      <td>72747.12</td>\n",
       "      <td>0</td>\n",
       "    </tr>\n",
       "    <tr>\n",
       "      <th>395</th>\n",
       "      <td>1</td>\n",
       "      <td>0</td>\n",
       "      <td>41294.0</td>\n",
       "      <td>1</td>\n",
       "      <td>39</td>\n",
       "      <td>46</td>\n",
       "      <td>71733.25</td>\n",
       "      <td>0</td>\n",
       "    </tr>\n",
       "    <tr>\n",
       "      <th>410</th>\n",
       "      <td>1</td>\n",
       "      <td>1</td>\n",
       "      <td>38605.0</td>\n",
       "      <td>1</td>\n",
       "      <td>38</td>\n",
       "      <td>19</td>\n",
       "      <td>69365.78</td>\n",
       "      <td>0</td>\n",
       "    </tr>\n",
       "    <tr>\n",
       "      <th>428</th>\n",
       "      <td>1</td>\n",
       "      <td>0</td>\n",
       "      <td>36990.0</td>\n",
       "      <td>2</td>\n",
       "      <td>43</td>\n",
       "      <td>21</td>\n",
       "      <td>65008.02</td>\n",
       "      <td>0</td>\n",
       "    </tr>\n",
       "    <tr>\n",
       "      <th>613</th>\n",
       "      <td>1</td>\n",
       "      <td>1</td>\n",
       "      <td>40574.0</td>\n",
       "      <td>2</td>\n",
       "      <td>66</td>\n",
       "      <td>34</td>\n",
       "      <td>62314.99</td>\n",
       "      <td>0</td>\n",
       "    </tr>\n",
       "    <tr>\n",
       "      <th>684</th>\n",
       "      <td>1</td>\n",
       "      <td>0</td>\n",
       "      <td>40632.0</td>\n",
       "      <td>2</td>\n",
       "      <td>61</td>\n",
       "      <td>33</td>\n",
       "      <td>71017.54</td>\n",
       "      <td>0</td>\n",
       "    </tr>\n",
       "    <tr>\n",
       "      <th>994</th>\n",
       "      <td>1</td>\n",
       "      <td>1</td>\n",
       "      <td>40365.0</td>\n",
       "      <td>3</td>\n",
       "      <td>54</td>\n",
       "      <td>27</td>\n",
       "      <td>68402.56</td>\n",
       "      <td>1</td>\n",
       "    </tr>\n",
       "    <tr>\n",
       "      <th>1074</th>\n",
       "      <td>3</td>\n",
       "      <td>1</td>\n",
       "      <td>38765.0</td>\n",
       "      <td>4</td>\n",
       "      <td>72</td>\n",
       "      <td>60</td>\n",
       "      <td>80489.55</td>\n",
       "      <td>0</td>\n",
       "    </tr>\n",
       "    <tr>\n",
       "      <th>1251</th>\n",
       "      <td>2</td>\n",
       "      <td>1</td>\n",
       "      <td>40996.0</td>\n",
       "      <td>3</td>\n",
       "      <td>37</td>\n",
       "      <td>19</td>\n",
       "      <td>74415.20</td>\n",
       "      <td>0</td>\n",
       "    </tr>\n",
       "    <tr>\n",
       "      <th>1366</th>\n",
       "      <td>1</td>\n",
       "      <td>1</td>\n",
       "      <td>39636.0</td>\n",
       "      <td>3</td>\n",
       "      <td>43</td>\n",
       "      <td>23</td>\n",
       "      <td>59230.44</td>\n",
       "      <td>0</td>\n",
       "    </tr>\n",
       "    <tr>\n",
       "      <th>1436</th>\n",
       "      <td>2</td>\n",
       "      <td>1</td>\n",
       "      <td>41228.0</td>\n",
       "      <td>2</td>\n",
       "      <td>64</td>\n",
       "      <td>56</td>\n",
       "      <td>87418.05</td>\n",
       "      <td>1</td>\n",
       "    </tr>\n",
       "    <tr>\n",
       "      <th>1437</th>\n",
       "      <td>1</td>\n",
       "      <td>0</td>\n",
       "      <td>40945.0</td>\n",
       "      <td>1</td>\n",
       "      <td>46</td>\n",
       "      <td>38</td>\n",
       "      <td>74984.02</td>\n",
       "      <td>1</td>\n",
       "    </tr>\n",
       "    <tr>\n",
       "      <th>1510</th>\n",
       "      <td>2</td>\n",
       "      <td>0</td>\n",
       "      <td>38709.0</td>\n",
       "      <td>3</td>\n",
       "      <td>56</td>\n",
       "      <td>18</td>\n",
       "      <td>72747.12</td>\n",
       "      <td>0</td>\n",
       "    </tr>\n",
       "  </tbody>\n",
       "</table>\n",
       "</div>"
      ],
      "text/plain": [
       "      College  City  Previous CTC  Previous job change  Graduation Marks  \\\n",
       "28          2     0       39636.0                    3                43   \n",
       "98          1     1       41228.0                    2                64   \n",
       "99          1     1       40945.0                    1                46   \n",
       "172         3     1       38709.0                    3                56   \n",
       "395         1     0       41294.0                    1                39   \n",
       "410         1     1       38605.0                    1                38   \n",
       "428         1     0       36990.0                    2                43   \n",
       "613         1     1       40574.0                    2                66   \n",
       "684         1     0       40632.0                    2                61   \n",
       "994         1     1       40365.0                    3                54   \n",
       "1074        3     1       38765.0                    4                72   \n",
       "1251        2     1       40996.0                    3                37   \n",
       "1366        1     1       39636.0                    3                43   \n",
       "1436        2     1       41228.0                    2                64   \n",
       "1437        1     0       40945.0                    1                46   \n",
       "1510        2     0       38709.0                    3                56   \n",
       "\n",
       "      EXP (Month)       CTC  Role_Manager  \n",
       "28             23  59230.44             0  \n",
       "98             56  87418.05             1  \n",
       "99             38  74984.02             1  \n",
       "172            18  72747.12             0  \n",
       "395            46  71733.25             0  \n",
       "410            19  69365.78             0  \n",
       "428            21  65008.02             0  \n",
       "613            34  62314.99             0  \n",
       "684            33  71017.54             0  \n",
       "994            27  68402.56             1  \n",
       "1074           60  80489.55             0  \n",
       "1251           19  74415.20             0  \n",
       "1366           23  59230.44             0  \n",
       "1436           56  87418.05             1  \n",
       "1437           38  74984.02             1  \n",
       "1510           18  72747.12             0  "
      ]
     },
     "execution_count": 549,
     "metadata": {},
     "output_type": "execute_result"
    }
   ],
   "source": [
    "fp_df[fp_df['Previous CTC'] < lv]"
   ]
  },
  {
   "cell_type": "code",
   "execution_count": 550,
   "id": "ea111f6d-e37b-4583-8a6e-31f5bd670ca2",
   "metadata": {},
   "outputs": [
    {
     "data": {
      "text/html": [
       "<div>\n",
       "<style scoped>\n",
       "    .dataframe tbody tr th:only-of-type {\n",
       "        vertical-align: middle;\n",
       "    }\n",
       "\n",
       "    .dataframe tbody tr th {\n",
       "        vertical-align: top;\n",
       "    }\n",
       "\n",
       "    .dataframe thead th {\n",
       "        text-align: right;\n",
       "    }\n",
       "</style>\n",
       "<table border=\"1\" class=\"dataframe\">\n",
       "  <thead>\n",
       "    <tr style=\"text-align: right;\">\n",
       "      <th></th>\n",
       "      <th>College</th>\n",
       "      <th>City</th>\n",
       "      <th>Previous CTC</th>\n",
       "      <th>Previous job change</th>\n",
       "      <th>Graduation Marks</th>\n",
       "      <th>EXP (Month)</th>\n",
       "      <th>CTC</th>\n",
       "      <th>Role_Manager</th>\n",
       "    </tr>\n",
       "  </thead>\n",
       "  <tbody>\n",
       "  </tbody>\n",
       "</table>\n",
       "</div>"
      ],
      "text/plain": [
       "Empty DataFrame\n",
       "Columns: [College, City, Previous CTC, Previous job change, Graduation Marks, EXP (Month), CTC, Role_Manager]\n",
       "Index: []"
      ]
     },
     "execution_count": 550,
     "metadata": {},
     "output_type": "execute_result"
    }
   ],
   "source": [
    "fp_df[fp_df['Previous CTC'] < 0.3*lv]"
   ]
  },
  {
   "cell_type": "markdown",
   "id": "bf6b34a6-9539-4333-b455-c38304c6cb36",
   "metadata": {},
   "source": [
    "Since there is no rows that is lesser than 0.3 times the 1st percentile, we do not have to modify any rows."
   ]
  },
  {
   "cell_type": "markdown",
   "id": "8491f7c3-63ab-45d8-9905-cdef2075d3e4",
   "metadata": {},
   "source": [
    "## Data Vizuvalisation"
   ]
  },
  {
   "cell_type": "code",
   "execution_count": 553,
   "id": "0e1fc239-004b-4ae7-8976-22c966dc789f",
   "metadata": {},
   "outputs": [
    {
     "data": {
      "text/plain": [
       "<seaborn.axisgrid.JointGrid at 0x7f24f370fed0>"
      ]
     },
     "execution_count": 553,
     "metadata": {},
     "output_type": "execute_result"
    },
    {
     "data": {
      "image/png": "[encoded data removed]",
      "text/plain": [
       "<Figure size 600x600 with 3 Axes>"
      ]
     },
     "metadata": {},
     "output_type": "display_data"
    }
   ],
   "source": [
    "sb.jointplot(x='Previous CTC', y='CTC', data=fp_df, kind = 'reg')"
   ]
  },
  {
   "cell_type": "markdown",
   "id": "a6413430-cb55-4ed4-9a6a-53f5ff6e724a",
   "metadata": {},
   "source": [
    "### Number of employees from Tier 1, Tier 2, and Tier 3 Colleges.\n",
    "\n",
    "* 1 represents employees from Tier 1 college.\n",
    "* 2 represents employees from Tier 2 college.\n",
    "* 3 represents employees from Tier 3 college."
   ]
  },
  {
   "cell_type": "code",
   "execution_count": 555,
   "id": "ff92dc74-8867-4173-89fa-fdd76acf5678",
   "metadata": {},
   "outputs": [
    {
     "data": {
      "text/plain": [
       "<Axes: xlabel='College', ylabel='count'>"
      ]
     },
     "execution_count": 555,
     "metadata": {},
     "output_type": "execute_result"
    },
    {
     "data": {
      "image/png": "[encoded data removed]",
      "text/plain": [
       "<Figure size 640x480 with 1 Axes>"
      ]
     },
     "metadata": {},
     "output_type": "display_data"
    }
   ],
   "source": [
    "sb.countplot(x='College', data=fp_df)"
   ]
  },
  {
   "cell_type": "markdown",
   "id": "04807e0b-a037-461c-af55-0943fa7a80c2",
   "metadata": {},
   "source": [
    "### Number of employees from Metro and Non-Metro cities\n",
    "\n",
    "* 0 represents employees from Metro cities.\n",
    "* 1 represents employees from Non-Metro cities."
   ]
  },
  {
   "cell_type": "code",
   "execution_count": 557,
   "id": "c5d21011-cfde-43f1-8666-d95234db26cc",
   "metadata": {},
   "outputs": [
    {
     "data": {
      "text/plain": [
       "<Axes: xlabel='City', ylabel='count'>"
      ]
     },
     "execution_count": 557,
     "metadata": {},
     "output_type": "execute_result"
    },
    {
     "data": {
      "image/png": "[encoded data removed]",
      "text/plain": [
       "<Figure size 640x480 with 1 Axes>"
      ]
     },
     "metadata": {},
     "output_type": "display_data"
    }
   ],
   "source": [
    "sb.countplot(x='City', data=fp_df)"
   ]
  },
  {
   "cell_type": "markdown",
   "id": "5ad4bd60-e5c4-4cb5-a689-e53083951b7c",
   "metadata": {},
   "source": [
    "### Below graph shows how previous job change is related to CTC"
   ]
  },
  {
   "cell_type": "code",
   "execution_count": 559,
   "id": "d56b8327-0156-4de0-94d2-943b23430f12",
   "metadata": {},
   "outputs": [
    {
     "data": {
      "text/plain": [
       "<seaborn.axisgrid.JointGrid at 0x7f24f3419cd0>"
      ]
     },
     "execution_count": 559,
     "metadata": {},
     "output_type": "execute_result"
    },
    {
     "data": {
      "image/png": "[encoded data removed]",
      "text/plain": [
       "<Figure size 600x600 with 3 Axes>"
      ]
     },
     "metadata": {},
     "output_type": "display_data"
    }
   ],
   "source": [
    "sb.jointplot(x='Previous job change', y='CTC', data=fp_df, kind = 'reg')"
   ]
  },
  {
   "cell_type": "markdown",
   "id": "dc2d14f2-ba61-4251-9e7d-e52d468b2c19",
   "metadata": {},
   "source": [
    "### Below graph shows how graduation marks is related to CTC"
   ]
  },
  {
   "cell_type": "code",
   "execution_count": 561,
   "id": "eeb5a55e-90f9-41ac-875a-27555e73256a",
   "metadata": {},
   "outputs": [
    {
     "data": {
      "text/plain": [
       "<seaborn.axisgrid.JointGrid at 0x7f24f3456f50>"
      ]
     },
     "execution_count": 561,
     "metadata": {},
     "output_type": "execute_result"
    },
    {
     "data": {
      "image/png": "[encoded data removed]",
      "text/plain": [
       "<Figure size 600x600 with 3 Axes>"
      ]
     },
     "metadata": {},
     "output_type": "display_data"
    }
   ],
   "source": [
    "sb.jointplot(x='Graduation Marks', y='CTC', data=fp_df, kind = 'reg')"
   ]
  },
  {
   "cell_type": "markdown",
   "id": "8265a767-bd15-4ada-ae31-5fe3aa5ac4f7",
   "metadata": {},
   "source": [
    "### Below graph shows how experience in months is related to CTC."
   ]
  },
  {
   "cell_type": "code",
   "execution_count": 563,
   "id": "e71c2844-2e2b-4bd8-ba2e-2956c5b71181",
   "metadata": {},
   "outputs": [
    {
     "data": {
      "text/plain": [
       "<seaborn.axisgrid.JointGrid at 0x7f24f312f090>"
      ]
     },
     "execution_count": 563,
     "metadata": {},
     "output_type": "execute_result"
    },
    {
     "data": {
      "image/png": "[encoded data removed]",
      "text/plain": [
       "<Figure size 600x600 with 3 Axes>"
      ]
     },
     "metadata": {},
     "output_type": "display_data"
    }
   ],
   "source": [
    "sb.jointplot(x='EXP (Month)', y='CTC', data=fp_df, kind = 'reg')"
   ]
  },
  {
   "cell_type": "markdown",
   "id": "938b254f-e4dc-4063-929e-33bb36cc4f2c",
   "metadata": {},
   "source": [
    "#### Below are a few observations based on the data vizualisations.\n",
    "\n",
    "* Previous CTC increases, then CTC also increases.\n",
    "* Graduation Marks, previous job change has no effect on the CTC.\n",
    "* Experience in month increases, then CTC also increases.\n"
   ]
  },
  {
   "cell_type": "markdown",
   "id": "f246cb6b-cac0-4b37-9307-38e31aa6f963",
   "metadata": {
    "tags": []
   },
   "source": [
    "### Below graph shows number of employees in Executive role and Manager role\n",
    "\n",
    "* 0 represents executive role\n",
    "* 1 represents manager role"
   ]
  },
  {
   "cell_type": "code",
   "execution_count": 566,
   "id": "6b2ec017-349c-4b2d-a028-c9e620480760",
   "metadata": {},
   "outputs": [
    {
     "data": {
      "text/plain": [
       "<Axes: xlabel='Role_Manager', ylabel='count'>"
      ]
     },
     "execution_count": 566,
     "metadata": {},
     "output_type": "execute_result"
    },
    {
     "data": {
      "image/png": "[encoded data removed]",
      "text/plain": [
       "<Figure size 640x480 with 1 Axes>"
      ]
     },
     "metadata": {},
     "output_type": "display_data"
    }
   ],
   "source": [
    "sb.countplot(x='Role_Manager', data=fp_df)"
   ]
  },
  {
   "cell_type": "markdown",
   "id": "3280363a-6aca-4a5f-b7ce-21d07bc8d999",
   "metadata": {},
   "source": [
    "### Split the Dependent and Independent variables.\n",
    "\n",
    "Here all the columns except CTC are independent variables and CTC is the dependent variable."
   ]
  },
  {
   "cell_type": "code",
   "execution_count": 568,
   "id": "98d0d25b-f714-4610-9379-e7184c425abe",
   "metadata": {},
   "outputs": [],
   "source": [
    "X = fp_df.drop(\"CTC\",axis=1)"
   ]
  },
  {
   "cell_type": "markdown",
   "id": "d18727f1-c013-49bd-b24b-ff9f741b2fa9",
   "metadata": {},
   "source": [
    "Print the first 5 rows of the independent variable X"
   ]
  },
  {
   "cell_type": "code",
   "execution_count": 570,
   "id": "bd5cb743-2d4e-4316-a61c-0ce24af498b9",
   "metadata": {},
   "outputs": [
    {
     "data": {
      "text/html": [
       "<div>\n",
       "<style scoped>\n",
       "    .dataframe tbody tr th:only-of-type {\n",
       "        vertical-align: middle;\n",
       "    }\n",
       "\n",
       "    .dataframe tbody tr th {\n",
       "        vertical-align: top;\n",
       "    }\n",
       "\n",
       "    .dataframe thead th {\n",
       "        text-align: right;\n",
       "    }\n",
       "</style>\n",
       "<table border=\"1\" class=\"dataframe\">\n",
       "  <thead>\n",
       "    <tr style=\"text-align: right;\">\n",
       "      <th></th>\n",
       "      <th>College</th>\n",
       "      <th>City</th>\n",
       "      <th>Previous CTC</th>\n",
       "      <th>Previous job change</th>\n",
       "      <th>Graduation Marks</th>\n",
       "      <th>EXP (Month)</th>\n",
       "      <th>Role_Manager</th>\n",
       "    </tr>\n",
       "  </thead>\n",
       "  <tbody>\n",
       "    <tr>\n",
       "      <th>0</th>\n",
       "      <td>2</td>\n",
       "      <td>1</td>\n",
       "      <td>55523.0</td>\n",
       "      <td>3</td>\n",
       "      <td>66</td>\n",
       "      <td>19</td>\n",
       "      <td>1</td>\n",
       "    </tr>\n",
       "    <tr>\n",
       "      <th>1</th>\n",
       "      <td>2</td>\n",
       "      <td>1</td>\n",
       "      <td>57081.0</td>\n",
       "      <td>1</td>\n",
       "      <td>84</td>\n",
       "      <td>18</td>\n",
       "      <td>0</td>\n",
       "    </tr>\n",
       "    <tr>\n",
       "      <th>2</th>\n",
       "      <td>3</td>\n",
       "      <td>1</td>\n",
       "      <td>60347.0</td>\n",
       "      <td>2</td>\n",
       "      <td>52</td>\n",
       "      <td>28</td>\n",
       "      <td>0</td>\n",
       "    </tr>\n",
       "    <tr>\n",
       "      <th>3</th>\n",
       "      <td>3</td>\n",
       "      <td>1</td>\n",
       "      <td>49010.0</td>\n",
       "      <td>2</td>\n",
       "      <td>81</td>\n",
       "      <td>33</td>\n",
       "      <td>0</td>\n",
       "    </tr>\n",
       "    <tr>\n",
       "      <th>4</th>\n",
       "      <td>1</td>\n",
       "      <td>1</td>\n",
       "      <td>57879.0</td>\n",
       "      <td>4</td>\n",
       "      <td>74</td>\n",
       "      <td>32</td>\n",
       "      <td>0</td>\n",
       "    </tr>\n",
       "  </tbody>\n",
       "</table>\n",
       "</div>"
      ],
      "text/plain": [
       "   College  City  Previous CTC  Previous job change  Graduation Marks  \\\n",
       "0        2     1       55523.0                    3                66   \n",
       "1        2     1       57081.0                    1                84   \n",
       "2        3     1       60347.0                    2                52   \n",
       "3        3     1       49010.0                    2                81   \n",
       "4        1     1       57879.0                    4                74   \n",
       "\n",
       "   EXP (Month)  Role_Manager  \n",
       "0           19             1  \n",
       "1           18             0  \n",
       "2           28             0  \n",
       "3           33             0  \n",
       "4           32             0  "
      ]
     },
     "execution_count": 570,
     "metadata": {},
     "output_type": "execute_result"
    }
   ],
   "source": [
    "X.head()"
   ]
  },
  {
   "cell_type": "markdown",
   "id": "cc9224cf-80fd-4d60-a12e-60b520a87d2e",
   "metadata": {},
   "source": [
    "Print the shape of the independent variable X"
   ]
  },
  {
   "cell_type": "code",
   "execution_count": 572,
   "id": "acfa4b14-1329-43e6-aaf0-1cdae820213c",
   "metadata": {},
   "outputs": [
    {
     "data": {
      "text/plain": [
       "(1589, 7)"
      ]
     },
     "execution_count": 572,
     "metadata": {},
     "output_type": "execute_result"
    }
   ],
   "source": [
    "X.shape"
   ]
  },
  {
   "cell_type": "code",
   "execution_count": 573,
   "id": "e7577e1e-7d6f-4704-ac27-5488fb9b78a2",
   "metadata": {},
   "outputs": [
    {
     "data": {
      "text/plain": [
       "pandas.core.series.Series"
      ]
     },
     "execution_count": 573,
     "metadata": {},
     "output_type": "execute_result"
    }
   ],
   "source": [
    "y = fp_df['CTC']\n",
    "type(y)"
   ]
  },
  {
   "cell_type": "markdown",
   "id": "26c16d7c-60b9-4b45-b553-24d70fc6e072",
   "metadata": {},
   "source": [
    "Print the first 5 rows of the dependent variable y"
   ]
  },
  {
   "cell_type": "code",
   "execution_count": 575,
   "id": "4da3c7a7-18ac-4bca-afe3-f6ab7072435e",
   "metadata": {},
   "outputs": [
    {
     "data": {
      "text/plain": [
       "0    71406.58\n",
       "1    68005.87\n",
       "2    76764.02\n",
       "3    82092.39\n",
       "4    73878.10\n",
       "Name: CTC, dtype: float64"
      ]
     },
     "execution_count": 575,
     "metadata": {},
     "output_type": "execute_result"
    }
   ],
   "source": [
    "y.head()"
   ]
  },
  {
   "cell_type": "markdown",
   "id": "a8317285-3de2-4c5d-9c36-340b51a58e63",
   "metadata": {},
   "source": [
    "Print the shape of the dependent variable y"
   ]
  },
  {
   "cell_type": "code",
   "execution_count": 577,
   "id": "b40d7f1d-506d-4e8e-b153-e513c3ed2000",
   "metadata": {},
   "outputs": [
    {
     "data": {
      "text/plain": [
       "(1589,)"
      ]
     },
     "execution_count": 577,
     "metadata": {},
     "output_type": "execute_result"
    }
   ],
   "source": [
    "y.shape"
   ]
  },
  {
   "cell_type": "markdown",
   "id": "4a48a0ef-8569-4df1-890f-cf62ad609231",
   "metadata": {},
   "source": [
    "# Linear Regression\n",
    "\n",
    "OLS Method"
   ]
  },
  {
   "cell_type": "code",
   "execution_count": 579,
   "id": "4d3582f0-f775-4557-9b69-deec198e4a69",
   "metadata": {},
   "outputs": [],
   "source": [
    "X_cons = sma.add_constant(X)"
   ]
  },
  {
   "cell_type": "code",
   "execution_count": 580,
   "id": "53e6127f-9039-4d74-a656-6b093134b2b3",
   "metadata": {},
   "outputs": [
    {
     "data": {
      "text/html": [
       "<div>\n",
       "<style scoped>\n",
       "    .dataframe tbody tr th:only-of-type {\n",
       "        vertical-align: middle;\n",
       "    }\n",
       "\n",
       "    .dataframe tbody tr th {\n",
       "        vertical-align: top;\n",
       "    }\n",
       "\n",
       "    .dataframe thead th {\n",
       "        text-align: right;\n",
       "    }\n",
       "</style>\n",
       "<table border=\"1\" class=\"dataframe\">\n",
       "  <thead>\n",
       "    <tr style=\"text-align: right;\">\n",
       "      <th></th>\n",
       "      <th>const</th>\n",
       "      <th>College</th>\n",
       "      <th>City</th>\n",
       "      <th>Previous CTC</th>\n",
       "      <th>Previous job change</th>\n",
       "      <th>Graduation Marks</th>\n",
       "      <th>EXP (Month)</th>\n",
       "      <th>Role_Manager</th>\n",
       "    </tr>\n",
       "  </thead>\n",
       "  <tbody>\n",
       "    <tr>\n",
       "      <th>0</th>\n",
       "      <td>1.0</td>\n",
       "      <td>2</td>\n",
       "      <td>1</td>\n",
       "      <td>55523.0</td>\n",
       "      <td>3</td>\n",
       "      <td>66</td>\n",
       "      <td>19</td>\n",
       "      <td>1</td>\n",
       "    </tr>\n",
       "    <tr>\n",
       "      <th>1</th>\n",
       "      <td>1.0</td>\n",
       "      <td>2</td>\n",
       "      <td>1</td>\n",
       "      <td>57081.0</td>\n",
       "      <td>1</td>\n",
       "      <td>84</td>\n",
       "      <td>18</td>\n",
       "      <td>0</td>\n",
       "    </tr>\n",
       "    <tr>\n",
       "      <th>2</th>\n",
       "      <td>1.0</td>\n",
       "      <td>3</td>\n",
       "      <td>1</td>\n",
       "      <td>60347.0</td>\n",
       "      <td>2</td>\n",
       "      <td>52</td>\n",
       "      <td>28</td>\n",
       "      <td>0</td>\n",
       "    </tr>\n",
       "    <tr>\n",
       "      <th>3</th>\n",
       "      <td>1.0</td>\n",
       "      <td>3</td>\n",
       "      <td>1</td>\n",
       "      <td>49010.0</td>\n",
       "      <td>2</td>\n",
       "      <td>81</td>\n",
       "      <td>33</td>\n",
       "      <td>0</td>\n",
       "    </tr>\n",
       "    <tr>\n",
       "      <th>4</th>\n",
       "      <td>1.0</td>\n",
       "      <td>1</td>\n",
       "      <td>1</td>\n",
       "      <td>57879.0</td>\n",
       "      <td>4</td>\n",
       "      <td>74</td>\n",
       "      <td>32</td>\n",
       "      <td>0</td>\n",
       "    </tr>\n",
       "  </tbody>\n",
       "</table>\n",
       "</div>"
      ],
      "text/plain": [
       "   const  College  City  Previous CTC  Previous job change  Graduation Marks  \\\n",
       "0    1.0        2     1       55523.0                    3                66   \n",
       "1    1.0        2     1       57081.0                    1                84   \n",
       "2    1.0        3     1       60347.0                    2                52   \n",
       "3    1.0        3     1       49010.0                    2                81   \n",
       "4    1.0        1     1       57879.0                    4                74   \n",
       "\n",
       "   EXP (Month)  Role_Manager  \n",
       "0           19             1  \n",
       "1           18             0  \n",
       "2           28             0  \n",
       "3           33             0  \n",
       "4           32             0  "
      ]
     },
     "execution_count": 580,
     "metadata": {},
     "output_type": "execute_result"
    }
   ],
   "source": [
    "X_cons.head()"
   ]
  },
  {
   "cell_type": "code",
   "execution_count": 581,
   "id": "950c96d9-c843-47b5-943e-a765a15648d8",
   "metadata": {},
   "outputs": [
    {
     "data": {
      "text/plain": [
       "array([71406.58, 68005.87, 76764.02, ..., 70186.19, 73394.09, 70056.31])"
      ]
     },
     "execution_count": 581,
     "metadata": {},
     "output_type": "execute_result"
    }
   ],
   "source": [
    "np.asarray(fp_df['CTC'])"
   ]
  },
  {
   "cell_type": "code",
   "execution_count": 582,
   "id": "ebb413fb-a15f-4e8a-bfb8-55c244c127e3",
   "metadata": {},
   "outputs": [
    {
     "data": {
      "text/plain": [
       "array([[ 1.,  2.,  1., ..., 66., 19.,  1.],\n",
       "       [ 1.,  2.,  1., ..., 84., 18.,  0.],\n",
       "       [ 1.,  3.,  1., ..., 52., 28.,  0.],\n",
       "       ...,\n",
       "       [ 1.,  1.,  0., ..., 60., 19.,  0.],\n",
       "       [ 1.,  1.,  1., ..., 67., 29.,  0.],\n",
       "       [ 1.,  2.,  0., ..., 75., 18.,  1.]])"
      ]
     },
     "execution_count": 582,
     "metadata": {},
     "output_type": "execute_result"
    }
   ],
   "source": [
    "np.asarray(X_cons)"
   ]
  },
  {
   "cell_type": "code",
   "execution_count": 583,
   "id": "446c3c3c-ddb2-4d22-965d-4a477061e0df",
   "metadata": {},
   "outputs": [
    {
     "data": {
      "text/plain": [
       "array([71406.58, 68005.87, 76764.02, ..., 70186.19, 73394.09, 70056.31])"
      ]
     },
     "execution_count": 583,
     "metadata": {},
     "output_type": "execute_result"
    }
   ],
   "source": [
    "np.asarray(y)"
   ]
  },
  {
   "cell_type": "code",
   "execution_count": 584,
   "id": "0f65eff4-1ab8-48b7-97f3-e038c3feeb32",
   "metadata": {},
   "outputs": [],
   "source": [
    "lr_multi = sma.OLS(fp_df.CTC, X_cons).fit()"
   ]
  },
  {
   "cell_type": "code",
   "execution_count": 585,
   "id": "91a220d2-32a1-4e72-a237-dd255a8d02ae",
   "metadata": {},
   "outputs": [
    {
     "data": {
      "text/html": [
       "<table class=\"simpletable\">\n",
       "<caption>OLS Regression Results</caption>\n",
       "<tr>\n",
       "  <th>Dep. Variable:</th>           <td>CTC</td>       <th>  R-squared:         </th> <td>   0.534</td> \n",
       "</tr>\n",
       "<tr>\n",
       "  <th>Model:</th>                   <td>OLS</td>       <th>  Adj. R-squared:    </th> <td>   0.532</td> \n",
       "</tr>\n",
       "<tr>\n",
       "  <th>Method:</th>             <td>Least Squares</td>  <th>  F-statistic:       </th> <td>   259.1</td> \n",
       "</tr>\n",
       "<tr>\n",
       "  <th>Date:</th>             <td>Thu, 07 Dec 2023</td> <th>  Prob (F-statistic):</th> <td>4.70e-257</td>\n",
       "</tr>\n",
       "<tr>\n",
       "  <th>Time:</th>                 <td>14:47:54</td>     <th>  Log-Likelihood:    </th> <td> -16648.</td> \n",
       "</tr>\n",
       "<tr>\n",
       "  <th>No. Observations:</th>      <td>  1589</td>      <th>  AIC:               </th> <td>3.331e+04</td>\n",
       "</tr>\n",
       "<tr>\n",
       "  <th>Df Residuals:</th>          <td>  1581</td>      <th>  BIC:               </th> <td>3.335e+04</td>\n",
       "</tr>\n",
       "<tr>\n",
       "  <th>Df Model:</th>              <td>     7</td>      <th>                     </th>     <td> </td>    \n",
       "</tr>\n",
       "<tr>\n",
       "  <th>Covariance Type:</th>      <td>nonrobust</td>    <th>                     </th>     <td> </td>    \n",
       "</tr>\n",
       "</table>\n",
       "<table class=\"simpletable\">\n",
       "<tr>\n",
       "           <td></td>              <th>coef</th>     <th>std err</th>      <th>t</th>      <th>P>|t|</th>  <th>[0.025</th>    <th>0.975]</th>  \n",
       "</tr>\n",
       "<tr>\n",
       "  <th>const</th>               <td>  3.88e+04</td> <td> 2190.177</td> <td>   17.716</td> <td> 0.000</td> <td> 3.45e+04</td> <td> 4.31e+04</td>\n",
       "</tr>\n",
       "<tr>\n",
       "  <th>College</th>             <td> -481.5147</td> <td>  258.382</td> <td>   -1.864</td> <td> 0.063</td> <td> -988.321</td> <td>   25.292</td>\n",
       "</tr>\n",
       "<tr>\n",
       "  <th>City</th>                <td> -380.8308</td> <td>  433.455</td> <td>   -0.879</td> <td> 0.380</td> <td>-1231.039</td> <td>  469.377</td>\n",
       "</tr>\n",
       "<tr>\n",
       "  <th>Previous CTC</th>        <td>    0.4101</td> <td>    0.033</td> <td>   12.526</td> <td> 0.000</td> <td>    0.346</td> <td>    0.474</td>\n",
       "</tr>\n",
       "<tr>\n",
       "  <th>Previous job change</th> <td>  126.5653</td> <td>  192.887</td> <td>    0.656</td> <td> 0.512</td> <td> -251.776</td> <td>  504.906</td>\n",
       "</tr>\n",
       "<tr>\n",
       "  <th>Graduation Marks</th>    <td>    6.2362</td> <td>   14.502</td> <td>    0.430</td> <td> 0.667</td> <td>  -22.208</td> <td>   34.681</td>\n",
       "</tr>\n",
       "<tr>\n",
       "  <th>EXP (Month)</th>         <td>  261.3444</td> <td>   15.460</td> <td>   16.904</td> <td> 0.000</td> <td>  231.020</td> <td>  291.669</td>\n",
       "</tr>\n",
       "<tr>\n",
       "  <th>Role_Manager</th>        <td> 1.949e+04</td> <td>  534.694</td> <td>   36.446</td> <td> 0.000</td> <td> 1.84e+04</td> <td> 2.05e+04</td>\n",
       "</tr>\n",
       "</table>\n",
       "<table class=\"simpletable\">\n",
       "<tr>\n",
       "  <th>Omnibus:</th>       <td>49.726</td> <th>  Durbin-Watson:     </th> <td>   2.052</td>\n",
       "</tr>\n",
       "<tr>\n",
       "  <th>Prob(Omnibus):</th> <td> 0.000</td> <th>  Jarque-Bera (JB):  </th> <td>  55.299</td>\n",
       "</tr>\n",
       "<tr>\n",
       "  <th>Skew:</th>          <td> 0.408</td> <th>  Prob(JB):          </th> <td>9.82e-13</td>\n",
       "</tr>\n",
       "<tr>\n",
       "  <th>Kurtosis:</th>      <td> 3.411</td> <th>  Cond. No.          </th> <td>5.67e+05</td>\n",
       "</tr>\n",
       "</table><br/><br/>Notes:<br/>[1] Standard Errors assume that the covariance matrix of the errors is correctly specified.<br/>[2] The condition number is large, 5.67e+05. This might indicate that there are<br/>strong multicollinearity or other numerical problems."
      ],
      "text/latex": [
       "\\begin{center}\n",
       "\\begin{tabular}{lclc}\n",
       "\\toprule\n",
       "\\textbf{Dep. Variable:}      &       CTC        & \\textbf{  R-squared:         } &     0.534   \\\\\n",
       "\\textbf{Model:}              &       OLS        & \\textbf{  Adj. R-squared:    } &     0.532   \\\\\n",
       "\\textbf{Method:}             &  Least Squares   & \\textbf{  F-statistic:       } &     259.1   \\\\\n",
       "\\textbf{Date:}               & Thu, 07 Dec 2023 & \\textbf{  Prob (F-statistic):} & 4.70e-257   \\\\\n",
       "\\textbf{Time:}               &     14:47:54     & \\textbf{  Log-Likelihood:    } &   -16648.   \\\\\n",
       "\\textbf{No. Observations:}   &        1589      & \\textbf{  AIC:               } & 3.331e+04   \\\\\n",
       "\\textbf{Df Residuals:}       &        1581      & \\textbf{  BIC:               } & 3.335e+04   \\\\\n",
       "\\textbf{Df Model:}           &           7      & \\textbf{                     } &             \\\\\n",
       "\\textbf{Covariance Type:}    &    nonrobust     & \\textbf{                     } &             \\\\\n",
       "\\bottomrule\n",
       "\\end{tabular}\n",
       "\\begin{tabular}{lcccccc}\n",
       "                             & \\textbf{coef} & \\textbf{std err} & \\textbf{t} & \\textbf{P$> |$t$|$} & \\textbf{[0.025} & \\textbf{0.975]}  \\\\\n",
       "\\midrule\n",
       "\\textbf{const}               &     3.88e+04  &     2190.177     &    17.716  &         0.000        &     3.45e+04    &     4.31e+04     \\\\\n",
       "\\textbf{College}             &    -481.5147  &      258.382     &    -1.864  &         0.063        &     -988.321    &       25.292     \\\\\n",
       "\\textbf{City}                &    -380.8308  &      433.455     &    -0.879  &         0.380        &    -1231.039    &      469.377     \\\\\n",
       "\\textbf{Previous CTC}        &       0.4101  &        0.033     &    12.526  &         0.000        &        0.346    &        0.474     \\\\\n",
       "\\textbf{Previous job change} &     126.5653  &      192.887     &     0.656  &         0.512        &     -251.776    &      504.906     \\\\\n",
       "\\textbf{Graduation Marks}    &       6.2362  &       14.502     &     0.430  &         0.667        &      -22.208    &       34.681     \\\\\n",
       "\\textbf{EXP (Month)}         &     261.3444  &       15.460     &    16.904  &         0.000        &      231.020    &      291.669     \\\\\n",
       "\\textbf{Role\\_Manager}       &    1.949e+04  &      534.694     &    36.446  &         0.000        &     1.84e+04    &     2.05e+04     \\\\\n",
       "\\bottomrule\n",
       "\\end{tabular}\n",
       "\\begin{tabular}{lclc}\n",
       "\\textbf{Omnibus:}       & 49.726 & \\textbf{  Durbin-Watson:     } &    2.052  \\\\\n",
       "\\textbf{Prob(Omnibus):} &  0.000 & \\textbf{  Jarque-Bera (JB):  } &   55.299  \\\\\n",
       "\\textbf{Skew:}          &  0.408 & \\textbf{  Prob(JB):          } & 9.82e-13  \\\\\n",
       "\\textbf{Kurtosis:}      &  3.411 & \\textbf{  Cond. No.          } & 5.67e+05  \\\\\n",
       "\\bottomrule\n",
       "\\end{tabular}\n",
       "%\\caption{OLS Regression Results}\n",
       "\\end{center}\n",
       "\n",
       "Notes: \\newline\n",
       " [1] Standard Errors assume that the covariance matrix of the errors is correctly specified. \\newline\n",
       " [2] The condition number is large, 5.67e+05. This might indicate that there are \\newline\n",
       " strong multicollinearity or other numerical problems."
      ],
      "text/plain": [
       "<class 'statsmodels.iolib.summary.Summary'>\n",
       "\"\"\"\n",
       "                            OLS Regression Results                            \n",
       "==============================================================================\n",
       "Dep. Variable:                    CTC   R-squared:                       0.534\n",
       "Model:                            OLS   Adj. R-squared:                  0.532\n",
       "Method:                 Least Squares   F-statistic:                     259.1\n",
       "Date:                Thu, 07 Dec 2023   Prob (F-statistic):          4.70e-257\n",
       "Time:                        14:47:54   Log-Likelihood:                -16648.\n",
       "No. Observations:                1589   AIC:                         3.331e+04\n",
       "Df Residuals:                    1581   BIC:                         3.335e+04\n",
       "Df Model:                           7                                         \n",
       "Covariance Type:            nonrobust                                         \n",
       "=======================================================================================\n",
       "                          coef    std err          t      P>|t|      [0.025      0.975]\n",
       "---------------------------------------------------------------------------------------\n",
       "const                 3.88e+04   2190.177     17.716      0.000    3.45e+04    4.31e+04\n",
       "College              -481.5147    258.382     -1.864      0.063    -988.321      25.292\n",
       "City                 -380.8308    433.455     -0.879      0.380   -1231.039     469.377\n",
       "Previous CTC            0.4101      0.033     12.526      0.000       0.346       0.474\n",
       "Previous job change   126.5653    192.887      0.656      0.512    -251.776     504.906\n",
       "Graduation Marks        6.2362     14.502      0.430      0.667     -22.208      34.681\n",
       "EXP (Month)           261.3444     15.460     16.904      0.000     231.020     291.669\n",
       "Role_Manager         1.949e+04    534.694     36.446      0.000    1.84e+04    2.05e+04\n",
       "==============================================================================\n",
       "Omnibus:                       49.726   Durbin-Watson:                   2.052\n",
       "Prob(Omnibus):                  0.000   Jarque-Bera (JB):               55.299\n",
       "Skew:                           0.408   Prob(JB):                     9.82e-13\n",
       "Kurtosis:                       3.411   Cond. No.                     5.67e+05\n",
       "==============================================================================\n",
       "\n",
       "Notes:\n",
       "[1] Standard Errors assume that the covariance matrix of the errors is correctly specified.\n",
       "[2] The condition number is large, 5.67e+05. This might indicate that there are\n",
       "strong multicollinearity or other numerical problems.\n",
       "\"\"\""
      ]
     },
     "execution_count": 585,
     "metadata": {},
     "output_type": "execute_result"
    }
   ],
   "source": [
    "lr_multi.summary()"
   ]
  },
  {
   "cell_type": "code",
   "execution_count": 586,
   "id": "43f2e2a8-0efa-460a-a4e0-c1bfdc6e0ff4",
   "metadata": {},
   "outputs": [],
   "source": [
    "lm3 = LinearRegression()"
   ]
  },
  {
   "cell_type": "code",
   "execution_count": 587,
   "id": "7134e162-ff10-4228-bb83-c265c16101c4",
   "metadata": {},
   "outputs": [
    {
     "data": {
      "text/html": [
       "<style>#sk-container-id-11 {color: black;}#sk-container-id-11 pre{padding: 0;}#sk-container-id-11 div.sk-toggleable {background-color: white;}#sk-container-id-11 label.sk-toggleable__label {cursor: pointer;display: block;width: 100%;margin-bottom: 0;padding: 0.3em;box-sizing: border-box;text-align: center;}#sk-container-id-11 label.sk-toggleable__label-arrow:before {content: \"▸\";float: left;margin-right: 0.25em;color: #696969;}#sk-container-id-11 label.sk-toggleable__label-arrow:hover:before {color: black;}#sk-container-id-11 div.sk-estimator:hover label.sk-toggleable__label-arrow:before {color: black;}#sk-container-id-11 div.sk-toggleable__content {max-height: 0;max-width: 0;overflow: hidden;text-align: left;background-color: #f0f8ff;}#sk-container-id-11 div.sk-toggleable__content pre {margin: 0.2em;color: black;border-radius: 0.25em;background-color: #f0f8ff;}#sk-container-id-11 input.sk-toggleable__control:checked~div.sk-toggleable__content {max-height: 200px;max-width: 100%;overflow: auto;}#sk-container-id-11 input.sk-toggleable__control:checked~label.sk-toggleable__label-arrow:before {content: \"▾\";}#sk-container-id-11 div.sk-estimator input.sk-toggleable__control:checked~label.sk-toggleable__label {background-color: #d4ebff;}#sk-container-id-11 div.sk-label input.sk-toggleable__control:checked~label.sk-toggleable__label {background-color: #d4ebff;}#sk-container-id-11 input.sk-hidden--visually {border: 0;clip: rect(1px 1px 1px 1px);clip: rect(1px, 1px, 1px, 1px);height: 1px;margin: -1px;overflow: hidden;padding: 0;position: absolute;width: 1px;}#sk-container-id-11 div.sk-estimator {font-family: monospace;background-color: #f0f8ff;border: 1px dotted black;border-radius: 0.25em;box-sizing: border-box;margin-bottom: 0.5em;}#sk-container-id-11 div.sk-estimator:hover {background-color: #d4ebff;}#sk-container-id-11 div.sk-parallel-item::after {content: \"\";width: 100%;border-bottom: 1px solid gray;flex-grow: 1;}#sk-container-id-11 div.sk-label:hover label.sk-toggleable__label {background-color: #d4ebff;}#sk-container-id-11 div.sk-serial::before {content: \"\";position: absolute;border-left: 1px solid gray;box-sizing: border-box;top: 0;bottom: 0;left: 50%;z-index: 0;}#sk-container-id-11 div.sk-serial {display: flex;flex-direction: column;align-items: center;background-color: white;padding-right: 0.2em;padding-left: 0.2em;position: relative;}#sk-container-id-11 div.sk-item {position: relative;z-index: 1;}#sk-container-id-11 div.sk-parallel {display: flex;align-items: stretch;justify-content: center;background-color: white;position: relative;}#sk-container-id-11 div.sk-item::before, #sk-container-id-11 div.sk-parallel-item::before {content: \"\";position: absolute;border-left: 1px solid gray;box-sizing: border-box;top: 0;bottom: 0;left: 50%;z-index: -1;}#sk-container-id-11 div.sk-parallel-item {display: flex;flex-direction: column;z-index: 1;position: relative;background-color: white;}#sk-container-id-11 div.sk-parallel-item:first-child::after {align-self: flex-end;width: 50%;}#sk-container-id-11 div.sk-parallel-item:last-child::after {align-self: flex-start;width: 50%;}#sk-container-id-11 div.sk-parallel-item:only-child::after {width: 0;}#sk-container-id-11 div.sk-dashed-wrapped {border: 1px dashed gray;margin: 0 0.4em 0.5em 0.4em;box-sizing: border-box;padding-bottom: 0.4em;background-color: white;}#sk-container-id-11 div.sk-label label {font-family: monospace;font-weight: bold;display: inline-block;line-height: 1.2em;}#sk-container-id-11 div.sk-label-container {text-align: center;}#sk-container-id-11 div.sk-container {/* jupyter's `normalize.less` sets `[hidden] { display: none; }` but bootstrap.min.css set `[hidden] { display: none !important; }` so we also need the `!important` here to be able to override the default hidden behavior on the sphinx rendered scikit-learn.org. See: https://github.com/scikit-learn/scikit-learn/issues/21755 */display: inline-block !important;position: relative;}#sk-container-id-11 div.sk-text-repr-fallback {display: none;}</style><div id=\"sk-container-id-11\" class=\"sk-top-container\"><div class=\"sk-text-repr-fallback\"><pre>LinearRegression()</pre><b>In a Jupyter environment, please rerun this cell to show the HTML representation or trust the notebook. <br />On GitHub, the HTML representation is unable to render, please try loading this page with nbviewer.org.</b></div><div class=\"sk-container\" hidden><div class=\"sk-item\"><div class=\"sk-estimator sk-toggleable\"><input class=\"sk-toggleable__control sk-hidden--visually\" id=\"sk-estimator-id-11\" type=\"checkbox\" checked><label for=\"sk-estimator-id-11\" class=\"sk-toggleable__label sk-toggleable__label-arrow\">LinearRegression</label><div class=\"sk-toggleable__content\"><pre>LinearRegression()</pre></div></div></div></div></div>"
      ],
      "text/plain": [
       "LinearRegression()"
      ]
     },
     "execution_count": 587,
     "metadata": {},
     "output_type": "execute_result"
    }
   ],
   "source": [
    "lm3.fit(X_cons, y)"
   ]
  },
  {
   "cell_type": "code",
   "execution_count": 588,
   "id": "d66b14e1-5020-4a9e-9ed2-e93a00ba0408",
   "metadata": {},
   "outputs": [
    {
     "name": "stdout",
     "output_type": "stream",
     "text": [
      "38801.94059364109 [ 0.00000000e+00 -4.81514705e+02 -3.80830787e+02  4.10090279e-01\n",
      "  1.26565295e+02  6.23621203e+00  2.61344394e+02  1.94874279e+04]\n"
     ]
    }
   ],
   "source": [
    "print(lm3.intercept_, lm3.coef_)"
   ]
  },
  {
   "cell_type": "markdown",
   "id": "b0d3298a-1a5a-43fc-a014-54b4c2d6f1f4",
   "metadata": {},
   "source": [
    "## Split the data for Train and Test"
   ]
  },
  {
   "cell_type": "code",
   "execution_count": 590,
   "id": "7c3216a0-5567-42fd-8952-aea61bb1af60",
   "metadata": {},
   "outputs": [],
   "source": [
    "X_train, X_test, y_train, y_test = train_test_split(X_cons, y,test_size=0.2,random_state=1)"
   ]
  },
  {
   "cell_type": "code",
   "execution_count": 591,
   "id": "adcdfd28-df67-4ccf-b8b9-6aa9e151378f",
   "metadata": {},
   "outputs": [
    {
     "data": {
      "text/html": [
       "<div>\n",
       "<style scoped>\n",
       "    .dataframe tbody tr th:only-of-type {\n",
       "        vertical-align: middle;\n",
       "    }\n",
       "\n",
       "    .dataframe tbody tr th {\n",
       "        vertical-align: top;\n",
       "    }\n",
       "\n",
       "    .dataframe thead th {\n",
       "        text-align: right;\n",
       "    }\n",
       "</style>\n",
       "<table border=\"1\" class=\"dataframe\">\n",
       "  <thead>\n",
       "    <tr style=\"text-align: right;\">\n",
       "      <th></th>\n",
       "      <th>const</th>\n",
       "      <th>College</th>\n",
       "      <th>City</th>\n",
       "      <th>Previous CTC</th>\n",
       "      <th>Previous job change</th>\n",
       "      <th>Graduation Marks</th>\n",
       "      <th>EXP (Month)</th>\n",
       "      <th>Role_Manager</th>\n",
       "    </tr>\n",
       "  </thead>\n",
       "  <tbody>\n",
       "    <tr>\n",
       "      <th>142</th>\n",
       "      <td>1.0</td>\n",
       "      <td>1</td>\n",
       "      <td>0</td>\n",
       "      <td>47481.0</td>\n",
       "      <td>4</td>\n",
       "      <td>42</td>\n",
       "      <td>34</td>\n",
       "      <td>1</td>\n",
       "    </tr>\n",
       "    <tr>\n",
       "      <th>1224</th>\n",
       "      <td>1.0</td>\n",
       "      <td>3</td>\n",
       "      <td>1</td>\n",
       "      <td>44974.0</td>\n",
       "      <td>2</td>\n",
       "      <td>61</td>\n",
       "      <td>41</td>\n",
       "      <td>0</td>\n",
       "    </tr>\n",
       "    <tr>\n",
       "      <th>736</th>\n",
       "      <td>1.0</td>\n",
       "      <td>3</td>\n",
       "      <td>1</td>\n",
       "      <td>64762.0</td>\n",
       "      <td>1</td>\n",
       "      <td>63</td>\n",
       "      <td>37</td>\n",
       "      <td>1</td>\n",
       "    </tr>\n",
       "    <tr>\n",
       "      <th>620</th>\n",
       "      <td>1.0</td>\n",
       "      <td>3</td>\n",
       "      <td>0</td>\n",
       "      <td>55650.0</td>\n",
       "      <td>4</td>\n",
       "      <td>75</td>\n",
       "      <td>30</td>\n",
       "      <td>0</td>\n",
       "    </tr>\n",
       "    <tr>\n",
       "      <th>1492</th>\n",
       "      <td>1.0</td>\n",
       "      <td>1</td>\n",
       "      <td>1</td>\n",
       "      <td>55308.0</td>\n",
       "      <td>2</td>\n",
       "      <td>36</td>\n",
       "      <td>40</td>\n",
       "      <td>0</td>\n",
       "    </tr>\n",
       "  </tbody>\n",
       "</table>\n",
       "</div>"
      ],
      "text/plain": [
       "      const  College  City  Previous CTC  Previous job change  \\\n",
       "142     1.0        1     0       47481.0                    4   \n",
       "1224    1.0        3     1       44974.0                    2   \n",
       "736     1.0        3     1       64762.0                    1   \n",
       "620     1.0        3     0       55650.0                    4   \n",
       "1492    1.0        1     1       55308.0                    2   \n",
       "\n",
       "      Graduation Marks  EXP (Month)  Role_Manager  \n",
       "142                 42           34             1  \n",
       "1224                61           41             0  \n",
       "736                 63           37             1  \n",
       "620                 75           30             0  \n",
       "1492                36           40             0  "
      ]
     },
     "execution_count": 591,
     "metadata": {},
     "output_type": "execute_result"
    }
   ],
   "source": [
    "X_train.head()"
   ]
  },
  {
   "cell_type": "code",
   "execution_count": 592,
   "id": "086e7417-e66b-46ea-9f66-78d31ff5bad2",
   "metadata": {},
   "outputs": [
    {
     "name": "stdout",
     "output_type": "stream",
     "text": [
      "(1271, 8) (318, 8) (1271,) (318,)\n"
     ]
    }
   ],
   "source": [
    "print(X_train.shape, X_test.shape, y_train.shape, y_test.shape)"
   ]
  },
  {
   "cell_type": "code",
   "execution_count": 593,
   "id": "6b08edd3-b56f-4c84-b2b4-9fcbf6e5a0c6",
   "metadata": {},
   "outputs": [
    {
     "data": {
      "text/html": [
       "<div>\n",
       "<style scoped>\n",
       "    .dataframe tbody tr th:only-of-type {\n",
       "        vertical-align: middle;\n",
       "    }\n",
       "\n",
       "    .dataframe tbody tr th {\n",
       "        vertical-align: top;\n",
       "    }\n",
       "\n",
       "    .dataframe thead th {\n",
       "        text-align: right;\n",
       "    }\n",
       "</style>\n",
       "<table border=\"1\" class=\"dataframe\">\n",
       "  <thead>\n",
       "    <tr style=\"text-align: right;\">\n",
       "      <th></th>\n",
       "      <th>const</th>\n",
       "      <th>College</th>\n",
       "      <th>City</th>\n",
       "      <th>Previous CTC</th>\n",
       "      <th>Previous job change</th>\n",
       "      <th>Graduation Marks</th>\n",
       "      <th>EXP (Month)</th>\n",
       "      <th>Role_Manager</th>\n",
       "    </tr>\n",
       "  </thead>\n",
       "  <tbody>\n",
       "    <tr>\n",
       "      <th>1586</th>\n",
       "      <td>1.0</td>\n",
       "      <td>1</td>\n",
       "      <td>0</td>\n",
       "      <td>44907.0</td>\n",
       "      <td>1</td>\n",
       "      <td>60</td>\n",
       "      <td>19</td>\n",
       "      <td>0</td>\n",
       "    </tr>\n",
       "    <tr>\n",
       "      <th>772</th>\n",
       "      <td>1.0</td>\n",
       "      <td>3</td>\n",
       "      <td>0</td>\n",
       "      <td>62913.0</td>\n",
       "      <td>4</td>\n",
       "      <td>55</td>\n",
       "      <td>44</td>\n",
       "      <td>0</td>\n",
       "    </tr>\n",
       "    <tr>\n",
       "      <th>1024</th>\n",
       "      <td>1.0</td>\n",
       "      <td>1</td>\n",
       "      <td>0</td>\n",
       "      <td>72661.0</td>\n",
       "      <td>3</td>\n",
       "      <td>74</td>\n",
       "      <td>47</td>\n",
       "      <td>0</td>\n",
       "    </tr>\n",
       "    <tr>\n",
       "      <th>1243</th>\n",
       "      <td>1.0</td>\n",
       "      <td>2</td>\n",
       "      <td>1</td>\n",
       "      <td>55183.0</td>\n",
       "      <td>2</td>\n",
       "      <td>78</td>\n",
       "      <td>28</td>\n",
       "      <td>0</td>\n",
       "    </tr>\n",
       "    <tr>\n",
       "      <th>640</th>\n",
       "      <td>1.0</td>\n",
       "      <td>2</td>\n",
       "      <td>0</td>\n",
       "      <td>65363.0</td>\n",
       "      <td>3</td>\n",
       "      <td>79</td>\n",
       "      <td>33</td>\n",
       "      <td>0</td>\n",
       "    </tr>\n",
       "  </tbody>\n",
       "</table>\n",
       "</div>"
      ],
      "text/plain": [
       "      const  College  City  Previous CTC  Previous job change  \\\n",
       "1586    1.0        1     0       44907.0                    1   \n",
       "772     1.0        3     0       62913.0                    4   \n",
       "1024    1.0        1     0       72661.0                    3   \n",
       "1243    1.0        2     1       55183.0                    2   \n",
       "640     1.0        2     0       65363.0                    3   \n",
       "\n",
       "      Graduation Marks  EXP (Month)  Role_Manager  \n",
       "1586                60           19             0  \n",
       "772                 55           44             0  \n",
       "1024                74           47             0  \n",
       "1243                78           28             0  \n",
       "640                 79           33             0  "
      ]
     },
     "execution_count": 593,
     "metadata": {},
     "output_type": "execute_result"
    }
   ],
   "source": [
    "X_test.head()"
   ]
  },
  {
   "cell_type": "code",
   "execution_count": 594,
   "id": "4a6c8b17-4eb5-4d4a-b4ba-dd6546bfc1dd",
   "metadata": {},
   "outputs": [
    {
     "data": {
      "text/plain": [
       "142     77150.63\n",
       "1224    62808.80\n",
       "736     89205.84\n",
       "620     62505.95\n",
       "1492    75028.75\n",
       "Name: CTC, dtype: float64"
      ]
     },
     "execution_count": 594,
     "metadata": {},
     "output_type": "execute_result"
    }
   ],
   "source": [
    "y_train.head()"
   ]
  },
  {
   "cell_type": "code",
   "execution_count": 595,
   "id": "b8c8c3d7-bc70-4a71-85f4-0f096d1fc6ff",
   "metadata": {},
   "outputs": [
    {
     "data": {
      "text/plain": [
       "1586    70186.19\n",
       "772     81307.63\n",
       "1024    70238.70\n",
       "1243    64495.67\n",
       "640     73418.48\n",
       "Name: CTC, dtype: float64"
      ]
     },
     "execution_count": 595,
     "metadata": {},
     "output_type": "execute_result"
    }
   ],
   "source": [
    "y_test.head()"
   ]
  },
  {
   "cell_type": "markdown",
   "id": "0aebd985-acf8-468a-999f-64c45b871b2f",
   "metadata": {},
   "source": [
    "### Model Performance"
   ]
  },
  {
   "cell_type": "code",
   "execution_count": 597,
   "id": "f7c07658-3270-4dd3-9172-59d050d8fe81",
   "metadata": {},
   "outputs": [
    {
     "data": {
      "text/html": [
       "<style>#sk-container-id-12 {color: black;}#sk-container-id-12 pre{padding: 0;}#sk-container-id-12 div.sk-toggleable {background-color: white;}#sk-container-id-12 label.sk-toggleable__label {cursor: pointer;display: block;width: 100%;margin-bottom: 0;padding: 0.3em;box-sizing: border-box;text-align: center;}#sk-container-id-12 label.sk-toggleable__label-arrow:before {content: \"▸\";float: left;margin-right: 0.25em;color: #696969;}#sk-container-id-12 label.sk-toggleable__label-arrow:hover:before {color: black;}#sk-container-id-12 div.sk-estimator:hover label.sk-toggleable__label-arrow:before {color: black;}#sk-container-id-12 div.sk-toggleable__content {max-height: 0;max-width: 0;overflow: hidden;text-align: left;background-color: #f0f8ff;}#sk-container-id-12 div.sk-toggleable__content pre {margin: 0.2em;color: black;border-radius: 0.25em;background-color: #f0f8ff;}#sk-container-id-12 input.sk-toggleable__control:checked~div.sk-toggleable__content {max-height: 200px;max-width: 100%;overflow: auto;}#sk-container-id-12 input.sk-toggleable__control:checked~label.sk-toggleable__label-arrow:before {content: \"▾\";}#sk-container-id-12 div.sk-estimator input.sk-toggleable__control:checked~label.sk-toggleable__label {background-color: #d4ebff;}#sk-container-id-12 div.sk-label input.sk-toggleable__control:checked~label.sk-toggleable__label {background-color: #d4ebff;}#sk-container-id-12 input.sk-hidden--visually {border: 0;clip: rect(1px 1px 1px 1px);clip: rect(1px, 1px, 1px, 1px);height: 1px;margin: -1px;overflow: hidden;padding: 0;position: absolute;width: 1px;}#sk-container-id-12 div.sk-estimator {font-family: monospace;background-color: #f0f8ff;border: 1px dotted black;border-radius: 0.25em;box-sizing: border-box;margin-bottom: 0.5em;}#sk-container-id-12 div.sk-estimator:hover {background-color: #d4ebff;}#sk-container-id-12 div.sk-parallel-item::after {content: \"\";width: 100%;border-bottom: 1px solid gray;flex-grow: 1;}#sk-container-id-12 div.sk-label:hover label.sk-toggleable__label {background-color: #d4ebff;}#sk-container-id-12 div.sk-serial::before {content: \"\";position: absolute;border-left: 1px solid gray;box-sizing: border-box;top: 0;bottom: 0;left: 50%;z-index: 0;}#sk-container-id-12 div.sk-serial {display: flex;flex-direction: column;align-items: center;background-color: white;padding-right: 0.2em;padding-left: 0.2em;position: relative;}#sk-container-id-12 div.sk-item {position: relative;z-index: 1;}#sk-container-id-12 div.sk-parallel {display: flex;align-items: stretch;justify-content: center;background-color: white;position: relative;}#sk-container-id-12 div.sk-item::before, #sk-container-id-12 div.sk-parallel-item::before {content: \"\";position: absolute;border-left: 1px solid gray;box-sizing: border-box;top: 0;bottom: 0;left: 50%;z-index: -1;}#sk-container-id-12 div.sk-parallel-item {display: flex;flex-direction: column;z-index: 1;position: relative;background-color: white;}#sk-container-id-12 div.sk-parallel-item:first-child::after {align-self: flex-end;width: 50%;}#sk-container-id-12 div.sk-parallel-item:last-child::after {align-self: flex-start;width: 50%;}#sk-container-id-12 div.sk-parallel-item:only-child::after {width: 0;}#sk-container-id-12 div.sk-dashed-wrapped {border: 1px dashed gray;margin: 0 0.4em 0.5em 0.4em;box-sizing: border-box;padding-bottom: 0.4em;background-color: white;}#sk-container-id-12 div.sk-label label {font-family: monospace;font-weight: bold;display: inline-block;line-height: 1.2em;}#sk-container-id-12 div.sk-label-container {text-align: center;}#sk-container-id-12 div.sk-container {/* jupyter's `normalize.less` sets `[hidden] { display: none; }` but bootstrap.min.css set `[hidden] { display: none !important; }` so we also need the `!important` here to be able to override the default hidden behavior on the sphinx rendered scikit-learn.org. See: https://github.com/scikit-learn/scikit-learn/issues/21755 */display: inline-block !important;position: relative;}#sk-container-id-12 div.sk-text-repr-fallback {display: none;}</style><div id=\"sk-container-id-12\" class=\"sk-top-container\"><div class=\"sk-text-repr-fallback\"><pre>LinearRegression()</pre><b>In a Jupyter environment, please rerun this cell to show the HTML representation or trust the notebook. <br />On GitHub, the HTML representation is unable to render, please try loading this page with nbviewer.org.</b></div><div class=\"sk-container\" hidden><div class=\"sk-item\"><div class=\"sk-estimator sk-toggleable\"><input class=\"sk-toggleable__control sk-hidden--visually\" id=\"sk-estimator-id-12\" type=\"checkbox\" checked><label for=\"sk-estimator-id-12\" class=\"sk-toggleable__label sk-toggleable__label-arrow\">LinearRegression</label><div class=\"sk-toggleable__content\"><pre>LinearRegression()</pre></div></div></div></div></div>"
      ],
      "text/plain": [
       "LinearRegression()"
      ]
     },
     "execution_count": 597,
     "metadata": {},
     "output_type": "execute_result"
    }
   ],
   "source": [
    "lm3.fit(X_train, y_train)"
   ]
  },
  {
   "cell_type": "code",
   "execution_count": 598,
   "id": "5fa2ff2c-794b-4a05-973a-2c16245e5280",
   "metadata": {},
   "outputs": [],
   "source": [
    "y_train_pred = lm3.predict(X_train)"
   ]
  },
  {
   "cell_type": "code",
   "execution_count": 599,
   "id": "dd04de48-bf6b-4ac5-a30a-3fa89b90df4c",
   "metadata": {},
   "outputs": [],
   "source": [
    "y_test_pred = lm3.predict(X_test)"
   ]
  },
  {
   "cell_type": "code",
   "execution_count": 600,
   "id": "f17be79a-b328-4930-891e-24df529d14d1",
   "metadata": {},
   "outputs": [
    {
     "data": {
      "text/plain": [
       "0.5321415278347941"
      ]
     },
     "execution_count": 600,
     "metadata": {},
     "output_type": "execute_result"
    }
   ],
   "source": [
    "r2_score(y_train, y_train_pred)"
   ]
  },
  {
   "cell_type": "code",
   "execution_count": 601,
   "id": "deb44a72-f7ee-4350-8e4c-68c2bd5d17c3",
   "metadata": {},
   "outputs": [
    {
     "data": {
      "text/plain": [
       "0.5383333027569247"
      ]
     },
     "execution_count": 601,
     "metadata": {},
     "output_type": "execute_result"
    }
   ],
   "source": [
    "r2_score(y_test, y_test_pred)"
   ]
  },
  {
   "cell_type": "markdown",
   "id": "10f2910f-b525-47b8-86c5-01d9f1a6984d",
   "metadata": {},
   "source": [
    "## Ridge Regression"
   ]
  },
  {
   "cell_type": "code",
   "execution_count": 603,
   "id": "a4f9a367-2483-40f1-81ca-e0a982ec562e",
   "metadata": {},
   "outputs": [],
   "source": [
    "scaler = preprocessing.StandardScaler().fit(X_train)"
   ]
  },
  {
   "cell_type": "code",
   "execution_count": 604,
   "id": "cf12936c-57e0-4b99-bab6-07d7f7c13d46",
   "metadata": {},
   "outputs": [],
   "source": [
    "X_train_s = scaler.transform(X_train)"
   ]
  },
  {
   "cell_type": "code",
   "execution_count": 605,
   "id": "6c6159c9-fec5-45d7-961c-ffece39398e5",
   "metadata": {},
   "outputs": [],
   "source": [
    "X_test_s = scaler.transform(X_test)"
   ]
  },
  {
   "cell_type": "code",
   "execution_count": 606,
   "id": "07611e71-6dbf-4173-a315-8d3c9f970357",
   "metadata": {},
   "outputs": [],
   "source": [
    "lr_ridge = Ridge(alpha=0.5)"
   ]
  },
  {
   "cell_type": "code",
   "execution_count": 607,
   "id": "a84373b1-a507-4bed-a9b8-0924252aa49f",
   "metadata": {},
   "outputs": [
    {
     "data": {
      "text/html": [
       "<style>#sk-container-id-13 {color: black;}#sk-container-id-13 pre{padding: 0;}#sk-container-id-13 div.sk-toggleable {background-color: white;}#sk-container-id-13 label.sk-toggleable__label {cursor: pointer;display: block;width: 100%;margin-bottom: 0;padding: 0.3em;box-sizing: border-box;text-align: center;}#sk-container-id-13 label.sk-toggleable__label-arrow:before {content: \"▸\";float: left;margin-right: 0.25em;color: #696969;}#sk-container-id-13 label.sk-toggleable__label-arrow:hover:before {color: black;}#sk-container-id-13 div.sk-estimator:hover label.sk-toggleable__label-arrow:before {color: black;}#sk-container-id-13 div.sk-toggleable__content {max-height: 0;max-width: 0;overflow: hidden;text-align: left;background-color: #f0f8ff;}#sk-container-id-13 div.sk-toggleable__content pre {margin: 0.2em;color: black;border-radius: 0.25em;background-color: #f0f8ff;}#sk-container-id-13 input.sk-toggleable__control:checked~div.sk-toggleable__content {max-height: 200px;max-width: 100%;overflow: auto;}#sk-container-id-13 input.sk-toggleable__control:checked~label.sk-toggleable__label-arrow:before {content: \"▾\";}#sk-container-id-13 div.sk-estimator input.sk-toggleable__control:checked~label.sk-toggleable__label {background-color: #d4ebff;}#sk-container-id-13 div.sk-label input.sk-toggleable__control:checked~label.sk-toggleable__label {background-color: #d4ebff;}#sk-container-id-13 input.sk-hidden--visually {border: 0;clip: rect(1px 1px 1px 1px);clip: rect(1px, 1px, 1px, 1px);height: 1px;margin: -1px;overflow: hidden;padding: 0;position: absolute;width: 1px;}#sk-container-id-13 div.sk-estimator {font-family: monospace;background-color: #f0f8ff;border: 1px dotted black;border-radius: 0.25em;box-sizing: border-box;margin-bottom: 0.5em;}#sk-container-id-13 div.sk-estimator:hover {background-color: #d4ebff;}#sk-container-id-13 div.sk-parallel-item::after {content: \"\";width: 100%;border-bottom: 1px solid gray;flex-grow: 1;}#sk-container-id-13 div.sk-label:hover label.sk-toggleable__label {background-color: #d4ebff;}#sk-container-id-13 div.sk-serial::before {content: \"\";position: absolute;border-left: 1px solid gray;box-sizing: border-box;top: 0;bottom: 0;left: 50%;z-index: 0;}#sk-container-id-13 div.sk-serial {display: flex;flex-direction: column;align-items: center;background-color: white;padding-right: 0.2em;padding-left: 0.2em;position: relative;}#sk-container-id-13 div.sk-item {position: relative;z-index: 1;}#sk-container-id-13 div.sk-parallel {display: flex;align-items: stretch;justify-content: center;background-color: white;position: relative;}#sk-container-id-13 div.sk-item::before, #sk-container-id-13 div.sk-parallel-item::before {content: \"\";position: absolute;border-left: 1px solid gray;box-sizing: border-box;top: 0;bottom: 0;left: 50%;z-index: -1;}#sk-container-id-13 div.sk-parallel-item {display: flex;flex-direction: column;z-index: 1;position: relative;background-color: white;}#sk-container-id-13 div.sk-parallel-item:first-child::after {align-self: flex-end;width: 50%;}#sk-container-id-13 div.sk-parallel-item:last-child::after {align-self: flex-start;width: 50%;}#sk-container-id-13 div.sk-parallel-item:only-child::after {width: 0;}#sk-container-id-13 div.sk-dashed-wrapped {border: 1px dashed gray;margin: 0 0.4em 0.5em 0.4em;box-sizing: border-box;padding-bottom: 0.4em;background-color: white;}#sk-container-id-13 div.sk-label label {font-family: monospace;font-weight: bold;display: inline-block;line-height: 1.2em;}#sk-container-id-13 div.sk-label-container {text-align: center;}#sk-container-id-13 div.sk-container {/* jupyter's `normalize.less` sets `[hidden] { display: none; }` but bootstrap.min.css set `[hidden] { display: none !important; }` so we also need the `!important` here to be able to override the default hidden behavior on the sphinx rendered scikit-learn.org. See: https://github.com/scikit-learn/scikit-learn/issues/21755 */display: inline-block !important;position: relative;}#sk-container-id-13 div.sk-text-repr-fallback {display: none;}</style><div id=\"sk-container-id-13\" class=\"sk-top-container\"><div class=\"sk-text-repr-fallback\"><pre>Ridge(alpha=0.5)</pre><b>In a Jupyter environment, please rerun this cell to show the HTML representation or trust the notebook. <br />On GitHub, the HTML representation is unable to render, please try loading this page with nbviewer.org.</b></div><div class=\"sk-container\" hidden><div class=\"sk-item\"><div class=\"sk-estimator sk-toggleable\"><input class=\"sk-toggleable__control sk-hidden--visually\" id=\"sk-estimator-id-13\" type=\"checkbox\" checked><label for=\"sk-estimator-id-13\" class=\"sk-toggleable__label sk-toggleable__label-arrow\">Ridge</label><div class=\"sk-toggleable__content\"><pre>Ridge(alpha=0.5)</pre></div></div></div></div></div>"
      ],
      "text/plain": [
       "Ridge(alpha=0.5)"
      ]
     },
     "execution_count": 607,
     "metadata": {},
     "output_type": "execute_result"
    }
   ],
   "source": [
    "lr_ridge.fit(X_train_s, y_train)"
   ]
  },
  {
   "cell_type": "code",
   "execution_count": 608,
   "id": "f3a9fe3c-1a13-4bf3-836c-783df9ab2145",
   "metadata": {},
   "outputs": [
    {
     "data": {
      "text/plain": [
       "0.5383709574503687"
      ]
     },
     "execution_count": 608,
     "metadata": {},
     "output_type": "execute_result"
    }
   ],
   "source": [
    "r2_score(y_test, lr_ridge.predict(X_test_s))"
   ]
  },
  {
   "cell_type": "code",
   "execution_count": 609,
   "id": "51846339-1bfb-4dd9-b805-8bf3a08b34f6",
   "metadata": {},
   "outputs": [],
   "source": [
    "param_range = np.logspace(-2, 8, 100)"
   ]
  },
  {
   "cell_type": "code",
   "execution_count": 610,
   "id": "af5a647c-4137-4b4d-99b9-8aac7e2c2531",
   "metadata": {},
   "outputs": [],
   "source": [
    "train_scores, test_scores = validation_curve(estimator=Ridge(), X=X_train_s, y=y_train, param_name=\"alpha\", param_range=param_range, scoring=\"r2\")"
   ]
  },
  {
   "cell_type": "code",
   "execution_count": 611,
   "id": "fbfd691e-6193-4ac5-b3b7-966a0f6dfcc5",
   "metadata": {},
   "outputs": [
    {
     "name": "stdout",
     "output_type": "stream",
     "text": [
      "[[5.61494600e-01 5.50908665e-01 5.27760938e-01 5.12636494e-01\n",
      "  5.11293133e-01]\n",
      " [5.61494600e-01 5.50908665e-01 5.27760937e-01 5.12636494e-01\n",
      "  5.11293133e-01]\n",
      " [5.61494600e-01 5.50908665e-01 5.27760937e-01 5.12636494e-01\n",
      "  5.11293133e-01]\n",
      " [5.61494599e-01 5.50908665e-01 5.27760937e-01 5.12636494e-01\n",
      "  5.11293133e-01]\n",
      " [5.61494599e-01 5.50908664e-01 5.27760937e-01 5.12636494e-01\n",
      "  5.11293133e-01]\n",
      " [5.61494599e-01 5.50908664e-01 5.27760937e-01 5.12636494e-01\n",
      "  5.11293133e-01]\n",
      " [5.61494599e-01 5.50908664e-01 5.27760937e-01 5.12636493e-01\n",
      "  5.11293132e-01]\n",
      " [5.61494598e-01 5.50908663e-01 5.27760936e-01 5.12636493e-01\n",
      "  5.11293132e-01]\n",
      " [5.61494598e-01 5.50908663e-01 5.27760935e-01 5.12636492e-01\n",
      "  5.11293131e-01]\n",
      " [5.61494596e-01 5.50908661e-01 5.27760934e-01 5.12636491e-01\n",
      "  5.11293130e-01]\n",
      " [5.61494594e-01 5.50908659e-01 5.27760932e-01 5.12636489e-01\n",
      "  5.11293128e-01]\n",
      " [5.61494591e-01 5.50908656e-01 5.27760928e-01 5.12636486e-01\n",
      "  5.11293124e-01]\n",
      " [5.61494586e-01 5.50908650e-01 5.27760923e-01 5.12636481e-01\n",
      "  5.11293119e-01]\n",
      " [5.61494579e-01 5.50908642e-01 5.27760914e-01 5.12636473e-01\n",
      "  5.11293111e-01]\n",
      " [5.61494566e-01 5.50908628e-01 5.27760901e-01 5.12636461e-01\n",
      "  5.11293098e-01]\n",
      " [5.61494546e-01 5.50908606e-01 5.27760879e-01 5.12636442e-01\n",
      "  5.11293077e-01]\n",
      " [5.61494515e-01 5.50908572e-01 5.27760844e-01 5.12636411e-01\n",
      "  5.11293044e-01]\n",
      " [5.61494465e-01 5.50908517e-01 5.27760789e-01 5.12636361e-01\n",
      "  5.11292992e-01]\n",
      " [5.61494385e-01 5.50908429e-01 5.27760701e-01 5.12636283e-01\n",
      "  5.11292908e-01]\n",
      " [5.61494258e-01 5.50908289e-01 5.27760561e-01 5.12636158e-01\n",
      "  5.11292774e-01]\n",
      " [5.61494056e-01 5.50908067e-01 5.27760338e-01 5.12635959e-01\n",
      "  5.11292562e-01]\n",
      " [5.61493734e-01 5.50907713e-01 5.27759984e-01 5.12635642e-01\n",
      "  5.11292224e-01]\n",
      " [5.61493223e-01 5.50907150e-01 5.27759420e-01 5.12635138e-01\n",
      "  5.11291686e-01]\n",
      " [5.61492409e-01 5.50906255e-01 5.27758523e-01 5.12634337e-01\n",
      "  5.11290832e-01]\n",
      " [5.61491115e-01 5.50904832e-01 5.27757097e-01 5.12633063e-01\n",
      "  5.11289473e-01]\n",
      " [5.61489058e-01 5.50902571e-01 5.27754830e-01 5.12631039e-01\n",
      "  5.11287313e-01]\n",
      " [5.61485791e-01 5.50898978e-01 5.27751230e-01 5.12627822e-01\n",
      "  5.11283882e-01]\n",
      " [5.61480603e-01 5.50893275e-01 5.27745516e-01 5.12622716e-01\n",
      "  5.11278436e-01]\n",
      " [5.61472371e-01 5.50884229e-01 5.27736452e-01 5.12614616e-01\n",
      "  5.11269797e-01]\n",
      " [5.61459323e-01 5.50869893e-01 5.27722090e-01 5.12601778e-01\n",
      "  5.11256108e-01]\n",
      " [5.61438663e-01 5.50847204e-01 5.27699361e-01 5.12581457e-01\n",
      "  5.11234442e-01]\n",
      " [5.61406000e-01 5.50811348e-01 5.27663447e-01 5.12549339e-01\n",
      "  5.11200208e-01]\n",
      " [5.61354456e-01 5.50754798e-01 5.27606813e-01 5.12498673e-01\n",
      "  5.11146219e-01]\n",
      " [5.61273300e-01 5.50665826e-01 5.27517728e-01 5.12418938e-01\n",
      "  5.11061287e-01]\n",
      " [5.61145892e-01 5.50526274e-01 5.27378034e-01 5.12293835e-01\n",
      "  5.10928089e-01]\n",
      " [5.60946591e-01 5.50308223e-01 5.27159829e-01 5.12098282e-01\n",
      "  5.10720004e-01]\n",
      " [5.60636225e-01 5.49969135e-01 5.26820636e-01 5.11794034e-01\n",
      "  5.10396487e-01]\n",
      " [5.60155593e-01 5.49444933e-01 5.26296531e-01 5.11323407e-01\n",
      "  5.09896496e-01]\n",
      " [5.59416409e-01 5.48640460e-01 5.25492702e-01 5.10600621e-01\n",
      "  5.09129450e-01]\n",
      " [5.58289215e-01 5.47416905e-01 5.24271063e-01 5.09500314e-01\n",
      "  5.07963329e-01]\n",
      " [5.56588147e-01 5.45576257e-01 5.22435040e-01 5.07843269e-01\n",
      "  5.06210042e-01]\n",
      " [5.54053333e-01 5.42843880e-01 5.19712710e-01 5.05380236e-01\n",
      "  5.03609113e-01]\n",
      " [5.50333326e-01 5.38852069e-01 5.15741252e-01 5.01776356e-01\n",
      "  4.99812511e-01]\n",
      " [5.44972427e-01 5.33130006e-01 5.10058208e-01 4.96601053e-01\n",
      "  4.94375832e-01]\n",
      " [5.37410717e-01 5.25108397e-01 5.02107809e-01 4.89330873e-01\n",
      "  4.86763726e-01]\n",
      " [5.27006977e-01 5.14148879e-01 4.91272190e-01 4.79374682e-01\n",
      "  4.76379082e-01]\n",
      " [5.13094340e-01 4.99606903e-01 4.76935567e-01 4.66129609e-01\n",
      "  4.62623914e-01]\n",
      " [4.95072933e-01 4.80929893e-01 4.58582114e-01 4.49070148e-01\n",
      "  4.44993043e-01]\n",
      " [4.72531679e-01 4.57779377e-01 4.35915068e-01 4.27860998e-01\n",
      "  4.23189053e-01]\n",
      " [4.45375113e-01 4.30150143e-01 4.08969442e-01 4.02469535e-01\n",
      "  3.97232318e-01]\n",
      " [4.13918014e-01 3.98449018e-01 3.78181681e-01 3.73243390e-01\n",
      "  3.67530686e-01]\n",
      " [3.78910285e-01 3.63499539e-01 3.44384956e-01 3.40920833e-01\n",
      "  3.34877999e-01]\n",
      " [3.41472133e-01 3.26459389e-01 3.08720404e-01 3.06559854e-01\n",
      "  3.00371045e-01]\n",
      " [3.02949764e-01 2.88667375e-01 2.72483902e-01 2.71399519e-01\n",
      "  2.65262809e-01]\n",
      " [2.64729929e-01 2.51461126e-01 2.36950025e-01 2.36690742e-01\n",
      "  2.30791888e-01]\n",
      " [2.28063207e-01 2.16013298e-01 2.03218901e-01 2.03541156e-01\n",
      "  1.98032563e-01]\n",
      " [1.93936683e-01 1.83221464e-01 1.72117594e-01 1.72808164e-01\n",
      "  1.67796944e-01]\n",
      " [1.63014218e-01 1.53664176e-01 1.44165301e-01 1.45053411e-01\n",
      "  1.40599021e-01]\n",
      " [1.35639527e-01 1.27614812e-01 1.19592288e-01 1.20552096e-01\n",
      "  1.16671414e-01]\n",
      " [1.11882993e-01 1.05093222e-01 9.83925994e-02 9.93390230e-02\n",
      "  9.60156210e-02]\n",
      " [9.16095582e-02 8.59335958e-02 8.03900406e-02 8.12711843e-02\n",
      "  7.84658025e-02]\n",
      " [7.45490471e-02 6.98517971e-02 6.53020954e-02 6.60908333e-02\n",
      "  6.37509863e-02]\n",
      " [6.03573440e-02 5.65023351e-02 5.27931131e-02 5.34794187e-02\n",
      "  5.15470703e-02]\n",
      " [4.86634003e-02 4.55211797e-02 4.25137375e-02 4.30984757e-02\n",
      "  4.15155223e-02]\n",
      " [3.91016785e-02 3.65546788e-02 3.41271678e-02 3.46174855e-02\n",
      "  3.33292557e-02]\n",
      " [3.13321097e-02 2.92768731e-02 2.73246012e-02 2.77307404e-02\n",
      "  2.66879246e-02]\n",
      " [2.50505300e-02 2.33981310e-02 2.18326847e-02 2.21659212e-02\n",
      "  2.13253772e-02]\n",
      " [1.99924944e-02 1.86678520e-02 1.74155634e-02 1.76869697e-02\n",
      "  1.70117907e-02]\n",
      " [1.59328745e-02 1.48734616e-02 1.38735932e-02 1.40933666e-02\n",
      "  1.35525115e-02]\n",
      " [1.26830352e-02 1.18373303e-02 1.10402197e-02 1.12173767e-02\n",
      "  1.07850751e-02]\n",
      " [1.00868300e-02 9.41273117e-03 8.77803648e-03 8.92033145e-03\n",
      "  8.57540209e-03]\n",
      " [8.01621512e-03 7.47954020e-03 6.97465923e-03 7.08863116e-03\n",
      "  6.81380001e-03]\n",
      " [6.36695526e-03 5.94009327e-03 5.53878613e-03 5.62986995e-03\n",
      "  5.41113493e-03]\n",
      " [5.05467961e-03 4.71541667e-03 4.39663215e-03 4.46929666e-03\n",
      "  4.29536192e-03]\n",
      " [4.01140070e-03 3.74192147e-03 3.48881405e-03 3.54670370e-03\n",
      "  3.40849068e-03]\n",
      " [3.18252507e-03 2.96857737e-03 2.76769420e-03 2.81376259e-03\n",
      "  2.70399627e-03]\n",
      " [2.52433562e-03 2.35454018e-03 2.19515497e-03 2.23178422e-03\n",
      "  2.14464841e-03]\n",
      " [2.00190091e-03 1.86718644e-03 1.74075764e-03 1.76986177e-03\n",
      "  1.70071506e-03]\n",
      " [1.58735757e-03 1.48050148e-03 1.38023414e-03 1.40334653e-03\n",
      "  1.34849039e-03]\n",
      " [1.25851024e-03 1.17376751e-03 1.09426041e-03 1.11260669e-03\n",
      "  1.06909732e-03]\n",
      " [9.97697591e-04 9.30502020e-04 8.67464487e-04 8.82022535e-04\n",
      "  8.47518958e-04]\n",
      " [7.90878056e-04 7.37602575e-04 6.87627859e-04 6.99176765e-04\n",
      "  6.71818721e-04]\n",
      " [6.26895422e-04 5.84660344e-04 5.45044582e-04 5.54204372e-04\n",
      "  5.32514446e-04]\n",
      " [4.96890655e-04 4.63410546e-04 4.32008409e-04 4.39272087e-04\n",
      "  4.22077446e-04]\n",
      " [3.93831846e-04 3.67293444e-04 3.42403186e-04 3.48162480e-04\n",
      "  3.34532412e-04]\n",
      " [3.12139237e-04 2.91104245e-04 2.71376252e-04 2.75942250e-04\n",
      "  2.65138386e-04]\n",
      " [2.47386512e-04 2.30714277e-04 2.15078364e-04 2.18698005e-04\n",
      "  2.10134703e-04]\n",
      " [1.96063087e-04 1.82849142e-04 1.70456808e-04 1.73326043e-04\n",
      "  1.66538878e-04]\n",
      " [1.55385127e-04 1.44912369e-04 1.35090940e-04 1.37365220e-04\n",
      "  1.31985946e-04]\n",
      " [1.23145384e-04 1.14845317e-04 1.07061553e-04 1.08864170e-04\n",
      "  1.04600834e-04]\n",
      " [9.75939579e-05 9.10159287e-05 8.48471460e-05 8.62758706e-05\n",
      "  8.28970279e-05]\n",
      " [7.73436446e-05 7.21304379e-05 6.72416056e-05 6.83739594e-05\n",
      "  6.56961451e-05]\n",
      " [6.12948358e-05 5.71633135e-05 5.32888861e-05 5.41863287e-05\n",
      "  5.20641191e-05]\n",
      " [4.85759382e-05 4.53016863e-05 4.22311989e-05 4.29424517e-05\n",
      "  4.12605820e-05]\n",
      " [3.84961210e-05 3.59012752e-05 3.34679224e-05 3.40316064e-05\n",
      "  3.26987189e-05]\n",
      " [3.05078446e-05 2.84514377e-05 2.65230196e-05 2.69697473e-05\n",
      "  2.59134351e-05]\n",
      " [2.41771505e-05 2.25474606e-05 2.10192049e-05 2.13732401e-05\n",
      "  2.05361171e-05]\n",
      " [1.91601073e-05 1.78685918e-05 1.66574644e-05 1.69380382e-05\n",
      "  1.62746240e-05]\n",
      " [1.51841384e-05 1.41606255e-05 1.32008209e-05 1.34231752e-05\n",
      "  1.28974255e-05]\n",
      " [1.20332209e-05 1.12220988e-05 1.04614658e-05 1.06376806e-05\n",
      "  1.02210295e-05]]\n"
     ]
    }
   ],
   "source": [
    "print(train_scores)"
   ]
  },
  {
   "cell_type": "code",
   "execution_count": 612,
   "id": "0405b193-f7c6-4b27-9568-2a0112e7c409",
   "metadata": {},
   "outputs": [
    {
     "name": "stdout",
     "output_type": "stream",
     "text": [
      "[[ 3.70167497e-01  4.25260054e-01  5.39775728e-01  6.04919140e-01\n",
      "   6.02165525e-01]\n",
      " [ 3.70167964e-01  4.25260659e-01  5.39775605e-01  6.04918826e-01\n",
      "   6.02165312e-01]\n",
      " [ 3.70168554e-01  4.25261423e-01  5.39775450e-01  6.04918430e-01\n",
      "   6.02165042e-01]\n",
      " [ 3.70169298e-01  4.25262387e-01  5.39775254e-01  6.04917931e-01\n",
      "   6.02164702e-01]\n",
      " [ 3.70170237e-01  4.25263603e-01  5.39775006e-01  6.04917300e-01\n",
      "   6.02164273e-01]\n",
      " [ 3.70171422e-01  4.25265137e-01  5.39774694e-01  6.04916505e-01\n",
      "   6.02163731e-01]\n",
      " [ 3.70172918e-01  4.25267073e-01  5.39774300e-01  6.04915501e-01\n",
      "   6.02163048e-01]\n",
      " [ 3.70174804e-01  4.25269515e-01  5.39773802e-01  6.04914235e-01\n",
      "   6.02162185e-01]\n",
      " [ 3.70177185e-01  4.25272597e-01  5.39773174e-01  6.04912636e-01\n",
      "   6.02161096e-01]\n",
      " [ 3.70180188e-01  4.25276486e-01  5.39772382e-01  6.04910619e-01\n",
      "   6.02159723e-01]\n",
      " [ 3.70183978e-01  4.25281392e-01  5.39771381e-01  6.04908074e-01\n",
      "   6.02157988e-01]\n",
      " [ 3.70188758e-01  4.25287581e-01  5.39770118e-01  6.04904861e-01\n",
      "   6.02155800e-01]\n",
      " [ 3.70194790e-01  4.25295389e-01  5.39768523e-01  6.04900807e-01\n",
      "   6.02153037e-01]\n",
      " [ 3.70202398e-01  4.25305240e-01  5.39766509e-01  6.04895689e-01\n",
      "   6.02149549e-01]\n",
      " [ 3.70211996e-01  4.25317664e-01  5.39763965e-01  6.04889230e-01\n",
      "   6.02145146e-01]\n",
      " [ 3.70224101e-01  4.25333335e-01  5.39760751e-01  6.04881076e-01\n",
      "   6.02139586e-01]\n",
      " [ 3.70239366e-01  4.25353097e-01  5.39756689e-01  6.04870782e-01\n",
      "   6.02132564e-01]\n",
      " [ 3.70258616e-01  4.25378015e-01  5.39751554e-01  6.04857786e-01\n",
      "   6.02123693e-01]\n",
      " [ 3.70282883e-01  4.25409427e-01  5.39745058e-01  6.04841374e-01\n",
      "   6.02112485e-01]\n",
      " [ 3.70313469e-01  4.25449017e-01  5.39736835e-01  6.04820646e-01\n",
      "   6.02098318e-01]\n",
      " [ 3.70352008e-01  4.25498897e-01  5.39726419e-01  6.04794460e-01\n",
      "   6.02080402e-01]\n",
      " [ 3.70400548e-01  4.25561716e-01  5.39713211e-01  6.04761369e-01\n",
      "   6.02057734e-01]\n",
      " [ 3.70461654e-01  4.25640790e-01  5.39696442e-01  6.04719537e-01\n",
      "   6.02029034e-01]\n",
      " [ 3.70538534e-01  4.25740261e-01  5.39675121e-01  6.04666629e-01\n",
      "   6.01992665e-01]\n",
      " [ 3.70635183e-01  4.25865290e-01  5.39647960e-01  6.04599676e-01\n",
      "   6.01946527e-01]\n",
      " [ 3.70756564e-01  4.26022279e-01  5.39613279e-01  6.04514887e-01\n",
      "   6.01887921e-01]\n",
      " [ 3.70908816e-01  4.26219143e-01  5.39568870e-01  6.04407412e-01\n",
      "   6.01813355e-01]\n",
      " [ 3.71099487e-01  4.26465599e-01  5.39511810e-01  6.04271032e-01\n",
      "   6.01718292e-01]\n",
      " [ 3.71337794e-01  4.26773494e-01  5.39438190e-01  6.04097734e-01\n",
      "   6.01596800e-01]\n",
      " [ 3.71634878e-01  4.27157119e-01  5.39342742e-01  6.03877157e-01\n",
      "   6.01441074e-01]\n",
      " [ 3.72004034e-01  4.27633479e-01  5.39218286e-01  6.03595833e-01\n",
      "   6.01240760e-01]\n",
      " [ 3.72460847e-01  4.28222433e-01  5.39054940e-01  6.03236161e-01\n",
      "   6.00982020e-01]\n",
      " [ 3.73023136e-01  4.28946563e-01  5.38838976e-01  6.02775000e-01\n",
      "   6.00646197e-01]\n",
      " [ 3.73710545e-01  4.29830560e-01  5.38551148e-01  6.02181741e-01\n",
      "   6.00207940e-01]\n",
      " [ 3.74543517e-01  4.30899794e-01  5.38164281e-01  6.01415651e-01\n",
      "   5.99632538e-01]\n",
      " [ 3.75541303e-01  4.32177578e-01  5.37639809e-01  6.00422233e-01\n",
      "   5.98872184e-01]\n",
      " [ 3.76718456e-01  4.33680469e-01  5.36922874e-01  5.99128285e-01\n",
      "   5.97860768e-01]\n",
      " [ 3.78079140e-01  4.35410718e-01  5.35935537e-01  5.97435296e-01\n",
      "   5.96506788e-01]\n",
      " [ 3.79608405e-01  4.37344878e-01  5.34567660e-01  5.95210853e-01\n",
      "   5.94683952e-01]\n",
      " [ 3.81259581e-01  4.39417597e-01  5.32665202e-01  5.92277946e-01\n",
      "   5.92219286e-01]\n",
      " [ 3.82937179e-01  4.41500080e-01  5.30016192e-01  5.88402515e-01\n",
      "   5.88879072e-01]\n",
      " [ 3.84475530e-01  4.43373910e-01  5.26335659e-01  5.83280575e-01\n",
      "   5.84354031e-01]\n",
      " [ 3.85614964e-01  4.44703093e-01  5.21252536e-01  5.76527764e-01\n",
      "   5.78246885e-01]\n",
      " [ 3.85980003e-01  4.45010637e-01  5.14303926e-01  5.67676333e-01\n",
      "   5.70067861e-01]\n",
      " [ 3.85067471e-01  4.43669998e-01  5.04944603e-01  5.56186789e-01\n",
      "   5.59246146e-01]\n",
      " [ 3.82255573e-01  4.39924915e-01  4.92580881e-01  5.41482550e-01\n",
      "   5.45166535e-01]\n",
      " [ 3.76845762e-01  4.32950545e-01  4.76635972e-01  5.23014102e-01\n",
      "   5.27238316e-01]\n",
      " [ 3.68144693e-01  4.21961367e-01  4.56646519e-01  5.00352410e-01\n",
      "   5.04995830e-01]\n",
      " [ 3.55582010e-01  4.06355759e-01  4.32377242e-01  4.73299482e-01\n",
      "   4.78217035e-01]\n",
      " [ 3.38842846e-01  3.85867338e-01  4.03926316e-01  4.41990404e-01\n",
      "   4.47031802e-01]\n",
      " [ 3.17978870e-01  3.60678542e-01  3.71786229e-01  4.06953092e-01\n",
      "   4.11983558e-01]\n",
      " [ 2.93458397e-01  3.31453617e-01  3.36831041e-01  3.69096979e-01\n",
      "   3.74014277e-01]\n",
      " [ 2.66130800e-01  2.99270522e-01  3.00222635e-01  3.29621806e-01\n",
      "   3.34365145e-01]\n",
      " [ 2.37109211e-01  2.65466007e-01  2.63256786e-01  2.89865132e-01\n",
      "   2.94414492e-01]\n",
      " [ 2.07604356e-01  2.31438016e-01  2.27190510e-01  2.51128393e-01\n",
      "   2.55496167e-01]\n",
      " [ 1.78756514e-01  1.98459656e-01  1.93094837e-01  2.14525731e-01\n",
      "   2.18744599e-01]\n",
      " [ 1.51506509e-01  1.67546703e-01  1.61762687e-01  1.80886790e-01\n",
      "   1.84997782e-01]\n",
      " [ 1.26526546e-01  1.39395833e-01  1.33679515e-01  1.50723100e-01\n",
      "   1.54766470e-01]\n",
      " [ 1.04209788e-01  1.14387014e-01  1.09045832e-01  1.24248461e-01\n",
      "   1.28258249e-01]\n",
      " [ 8.47029300e-02  9.26296818e-02  8.78316147e-02  1.01433586e-01\n",
      "   1.05435451e-01]\n",
      " [ 6.79614196e-02  7.40295073e-02  6.98425370e-02  8.20743636e-02\n",
      "   8.60856705e-02]\n",
      " [ 5.38098543e-02  5.83572514e-02  5.47832512e-02  6.58580808e-02\n",
      "   6.98891986e-02]\n",
      " [ 4.19961965e-02  4.53084221e-02  4.23095545e-02  5.24186375e-02\n",
      "   5.64746460e-02]\n",
      " [ 3.22344661e-02  3.45490173e-02  3.20667451e-02  4.13775308e-02\n",
      "   4.54598627e-02]\n",
      " [ 2.42349441e-02  2.57471000e-02  2.37149372e-02  3.23711528e-02\n",
      "   3.64789474e-02]\n",
      " [ 1.77233638e-02  1.85923033e-02  1.69437536e-02  2.50668029e-02\n",
      "   2.91979152e-02]\n",
      " [ 1.24515345e-02  1.28061649e-02  1.14792217e-02  1.91703390e-02\n",
      "   2.33220338e-02]\n",
      " [ 8.20189742e-03  8.14609586e-03  7.08543610e-03  1.44281681e-02\n",
      "   1.85975652e-02]\n",
      " [ 4.78813307e-03  4.40529228e-03  3.56301347e-03  1.06257416e-02\n",
      "   1.48100772e-02]\n",
      " [ 2.05343330e-03  1.41030858e-03  7.45807786e-04  7.58413219e-03\n",
      "   1.17808963e-02]\n",
      " [-1.32435553e-04 -9.82525156e-04 -1.50313054e-03  5.15576030e-03\n",
      "   9.36275392e-03]\n",
      " [-1.87653991e-03 -2.89107992e-03 -3.29573623e-03  3.21994125e-03\n",
      "   7.43528515e-03]\n",
      " [-3.26620839e-03 -4.41134434e-03 -4.72289835e-03  1.67864120e-03\n",
      "   5.90075800e-03]\n",
      " [-4.37223414e-03 -5.62103536e-03 -5.85803838e-03  4.52641445e-04\n",
      "   4.68022450e-03]\n",
      " [-5.25173068e-03 -6.58279152e-03 -6.76022808e-03 -5.21810427e-04\n",
      "   3.71016726e-03]\n",
      " [-5.95060197e-03 -7.34691901e-03 -7.47684334e-03 -1.29585464e-03\n",
      "   2.93964541e-03]\n",
      " [-6.50563327e-03 -7.95370667e-03 -8.04578490e-03 -1.91041006e-03\n",
      "   2.32790649e-03]\n",
      " [-6.94623391e-03 -8.43534963e-03 -8.49731358e-03 -2.39815144e-03\n",
      "   1.84241298e-03]\n",
      " [-7.29587296e-03 -8.81753052e-03 -8.85555267e-03 -2.78512908e-03\n",
      "   1.45722671e-03]\n",
      " [-7.57325194e-03 -9.12070871e-03 -9.13970909e-03 -3.09208585e-03\n",
      "   1.15169587e-03]\n",
      " [-7.79325616e-03 -9.36116486e-03 -9.36506044e-03 -3.33552217e-03\n",
      "   9.09393534e-04]\n",
      " [-7.96772276e-03 -9.55184335e-03 -9.54374951e-03 -3.52855337e-03\n",
      "   7.17263482e-04]\n",
      " [-8.10605809e-03 -9.70302889e-03 -9.68542165e-03 -3.68159775e-03\n",
      "   5.64934822e-04]\n",
      " [-8.21573270e-03 -9.82288867e-03 -9.79773467e-03 -3.80292707e-03\n",
      "   4.44173682e-04]\n",
      " [-8.30267699e-03 -9.91790554e-03 -9.88676612e-03 -3.89910629e-03\n",
      "   3.48445349e-04]\n",
      " [-8.37159710e-03 -9.99322367e-03 -9.95733792e-03 -3.97534415e-03\n",
      "   2.72565198e-04]\n",
      " [-8.42622656e-03 -1.00529239e-02 -1.00132749e-02 -4.03577233e-03\n",
      "   2.12420743e-04]\n",
      " [-8.46952668e-03 -1.01002427e-02 -1.00576102e-02 -4.08366753e-03\n",
      "   1.64750549e-04]\n",
      " [-8.50384581e-03 -1.01377467e-02 -1.00927491e-02 -4.12162799e-03\n",
      "   1.26968500e-04]\n",
      " [-8.53104597e-03 -1.01674710e-02 -1.01205986e-02 -4.15171372e-03\n",
      "   9.70242131e-05]\n",
      " [-8.55260342e-03 -1.01910288e-02 -1.01426704e-02 -4.17555785e-03\n",
      "   7.32922069e-05]\n",
      " [-8.56968845e-03 -1.02096991e-02 -1.01601629e-02 -4.19445500e-03\n",
      "   5.44839485e-05]\n",
      " [-8.58322874e-03 -1.02244957e-02 -1.01740260e-02 -4.20943134e-03\n",
      "   3.95780663e-05]\n",
      " [-8.59395964e-03 -1.02362223e-02 -1.01850127e-02 -4.22130025e-03\n",
      "   2.77649956e-05]\n",
      " [-8.60246397e-03 -1.02455156e-02 -1.01937197e-02 -4.23070643e-03\n",
      "   1.84030791e-05]\n",
      " [-8.60920368e-03 -1.02528807e-02 -1.02006200e-02 -4.23816083e-03\n",
      "   1.09837572e-05]\n",
      " [-8.61454489e-03 -1.02587174e-02 -1.02060884e-02 -4.24406842e-03\n",
      "   5.10396883e-06]\n",
      " [-8.61877778e-03 -1.02633430e-02 -1.02104221e-02 -4.24875015e-03\n",
      "   4.44272738e-07]\n",
      " [-8.62213232e-03 -1.02670088e-02 -1.02138566e-02 -4.25246039e-03\n",
      "  -3.24849718e-06]\n",
      " [-8.62479076e-03 -1.02699139e-02 -1.02165783e-02 -4.25540071e-03\n",
      "  -6.17497959e-06]]\n"
     ]
    }
   ],
   "source": [
    "print(test_scores)"
   ]
  },
  {
   "cell_type": "code",
   "execution_count": 613,
   "id": "e019b5af-bb23-4c5c-bd21-9371da290921",
   "metadata": {},
   "outputs": [],
   "source": [
    "train_mean = np.mean(train_scores, axis = 1)"
   ]
  },
  {
   "cell_type": "code",
   "execution_count": 614,
   "id": "9d0ff1c7-1984-49dd-b426-083ef763e440",
   "metadata": {},
   "outputs": [],
   "source": [
    "test_mean = np.mean(test_scores, axis = 1)"
   ]
  },
  {
   "cell_type": "code",
   "execution_count": 615,
   "id": "355df971-352d-43f5-b50d-9965c793d1ed",
   "metadata": {},
   "outputs": [
    {
     "data": {
      "text/plain": [
       "0.5089311561374406"
      ]
     },
     "execution_count": 615,
     "metadata": {},
     "output_type": "execute_result"
    }
   ],
   "source": [
    "max(test_mean)"
   ]
  },
  {
   "cell_type": "code",
   "execution_count": 616,
   "id": "a7a194b5-c11a-4ce0-a151-8df88961edf7",
   "metadata": {},
   "outputs": [
    {
     "data": {
      "text/plain": [
       "<seaborn.axisgrid.JointGrid at 0x7f24f2fa9d90>"
      ]
     },
     "execution_count": 616,
     "metadata": {},
     "output_type": "execute_result"
    },
    {
     "data": {
      "image/png": "[encoded data removed]",
      "text/plain": [
       "<Figure size 600x600 with 3 Axes>"
      ]
     },
     "metadata": {},
     "output_type": "display_data"
    }
   ],
   "source": [
    "sb.jointplot(x=np.log(param_range), y=test_mean)"
   ]
  },
  {
   "cell_type": "code",
   "execution_count": 617,
   "id": "287a777a-ccc2-4d2a-b9e8-1ded78e3979f",
   "metadata": {},
   "outputs": [
    {
     "data": {
      "text/plain": [
       "(array([34]),)"
      ]
     },
     "execution_count": 617,
     "metadata": {},
     "output_type": "execute_result"
    }
   ],
   "source": [
    "np.where(test_mean==max(test_mean))"
   ]
  },
  {
   "cell_type": "code",
   "execution_count": 618,
   "id": "236684d8-817f-4bf8-bc7d-a0c8a4afff40",
   "metadata": {},
   "outputs": [],
   "source": [
    "alpha_value = param_range[34]"
   ]
  },
  {
   "cell_type": "code",
   "execution_count": 619,
   "id": "e3e19c9c-2ab0-4d47-ba1a-d4edc884bd7f",
   "metadata": {},
   "outputs": [],
   "source": [
    "lr_ridge_best = Ridge(alpha=alpha_value)"
   ]
  },
  {
   "cell_type": "code",
   "execution_count": 620,
   "id": "354f7658-0071-40f2-84e3-3276b0f3031d",
   "metadata": {},
   "outputs": [
    {
     "data": {
      "text/html": [
       "<style>#sk-container-id-14 {color: black;}#sk-container-id-14 pre{padding: 0;}#sk-container-id-14 div.sk-toggleable {background-color: white;}#sk-container-id-14 label.sk-toggleable__label {cursor: pointer;display: block;width: 100%;margin-bottom: 0;padding: 0.3em;box-sizing: border-box;text-align: center;}#sk-container-id-14 label.sk-toggleable__label-arrow:before {content: \"▸\";float: left;margin-right: 0.25em;color: #696969;}#sk-container-id-14 label.sk-toggleable__label-arrow:hover:before {color: black;}#sk-container-id-14 div.sk-estimator:hover label.sk-toggleable__label-arrow:before {color: black;}#sk-container-id-14 div.sk-toggleable__content {max-height: 0;max-width: 0;overflow: hidden;text-align: left;background-color: #f0f8ff;}#sk-container-id-14 div.sk-toggleable__content pre {margin: 0.2em;color: black;border-radius: 0.25em;background-color: #f0f8ff;}#sk-container-id-14 input.sk-toggleable__control:checked~div.sk-toggleable__content {max-height: 200px;max-width: 100%;overflow: auto;}#sk-container-id-14 input.sk-toggleable__control:checked~label.sk-toggleable__label-arrow:before {content: \"▾\";}#sk-container-id-14 div.sk-estimator input.sk-toggleable__control:checked~label.sk-toggleable__label {background-color: #d4ebff;}#sk-container-id-14 div.sk-label input.sk-toggleable__control:checked~label.sk-toggleable__label {background-color: #d4ebff;}#sk-container-id-14 input.sk-hidden--visually {border: 0;clip: rect(1px 1px 1px 1px);clip: rect(1px, 1px, 1px, 1px);height: 1px;margin: -1px;overflow: hidden;padding: 0;position: absolute;width: 1px;}#sk-container-id-14 div.sk-estimator {font-family: monospace;background-color: #f0f8ff;border: 1px dotted black;border-radius: 0.25em;box-sizing: border-box;margin-bottom: 0.5em;}#sk-container-id-14 div.sk-estimator:hover {background-color: #d4ebff;}#sk-container-id-14 div.sk-parallel-item::after {content: \"\";width: 100%;border-bottom: 1px solid gray;flex-grow: 1;}#sk-container-id-14 div.sk-label:hover label.sk-toggleable__label {background-color: #d4ebff;}#sk-container-id-14 div.sk-serial::before {content: \"\";position: absolute;border-left: 1px solid gray;box-sizing: border-box;top: 0;bottom: 0;left: 50%;z-index: 0;}#sk-container-id-14 div.sk-serial {display: flex;flex-direction: column;align-items: center;background-color: white;padding-right: 0.2em;padding-left: 0.2em;position: relative;}#sk-container-id-14 div.sk-item {position: relative;z-index: 1;}#sk-container-id-14 div.sk-parallel {display: flex;align-items: stretch;justify-content: center;background-color: white;position: relative;}#sk-container-id-14 div.sk-item::before, #sk-container-id-14 div.sk-parallel-item::before {content: \"\";position: absolute;border-left: 1px solid gray;box-sizing: border-box;top: 0;bottom: 0;left: 50%;z-index: -1;}#sk-container-id-14 div.sk-parallel-item {display: flex;flex-direction: column;z-index: 1;position: relative;background-color: white;}#sk-container-id-14 div.sk-parallel-item:first-child::after {align-self: flex-end;width: 50%;}#sk-container-id-14 div.sk-parallel-item:last-child::after {align-self: flex-start;width: 50%;}#sk-container-id-14 div.sk-parallel-item:only-child::after {width: 0;}#sk-container-id-14 div.sk-dashed-wrapped {border: 1px dashed gray;margin: 0 0.4em 0.5em 0.4em;box-sizing: border-box;padding-bottom: 0.4em;background-color: white;}#sk-container-id-14 div.sk-label label {font-family: monospace;font-weight: bold;display: inline-block;line-height: 1.2em;}#sk-container-id-14 div.sk-label-container {text-align: center;}#sk-container-id-14 div.sk-container {/* jupyter's `normalize.less` sets `[hidden] { display: none; }` but bootstrap.min.css set `[hidden] { display: none !important; }` so we also need the `!important` here to be able to override the default hidden behavior on the sphinx rendered scikit-learn.org. See: https://github.com/scikit-learn/scikit-learn/issues/21755 */display: inline-block !important;position: relative;}#sk-container-id-14 div.sk-text-repr-fallback {display: none;}</style><div id=\"sk-container-id-14\" class=\"sk-top-container\"><div class=\"sk-text-repr-fallback\"><pre>Ridge(alpha=27.1858824273294)</pre><b>In a Jupyter environment, please rerun this cell to show the HTML representation or trust the notebook. <br />On GitHub, the HTML representation is unable to render, please try loading this page with nbviewer.org.</b></div><div class=\"sk-container\" hidden><div class=\"sk-item\"><div class=\"sk-estimator sk-toggleable\"><input class=\"sk-toggleable__control sk-hidden--visually\" id=\"sk-estimator-id-14\" type=\"checkbox\" checked><label for=\"sk-estimator-id-14\" class=\"sk-toggleable__label sk-toggleable__label-arrow\">Ridge</label><div class=\"sk-toggleable__content\"><pre>Ridge(alpha=27.1858824273294)</pre></div></div></div></div></div>"
      ],
      "text/plain": [
       "Ridge(alpha=27.1858824273294)"
      ]
     },
     "execution_count": 620,
     "metadata": {},
     "output_type": "execute_result"
    }
   ],
   "source": [
    "lr_ridge_best.fit(X_train_s, y_train)"
   ]
  },
  {
   "cell_type": "code",
   "execution_count": 621,
   "id": "5355163a-3648-43ba-bf0e-eb10acf1b546",
   "metadata": {},
   "outputs": [
    {
     "data": {
      "text/plain": [
       "0.5400624767491193"
      ]
     },
     "execution_count": 621,
     "metadata": {},
     "output_type": "execute_result"
    }
   ],
   "source": [
    "r2_score(y_test, lr_ridge_best.predict(X_test_s))"
   ]
  },
  {
   "cell_type": "code",
   "execution_count": 622,
   "id": "6c1a54c1-a231-4203-a130-204c21223e18",
   "metadata": {},
   "outputs": [
    {
     "data": {
      "text/plain": [
       "0.5319076489078044"
      ]
     },
     "execution_count": 622,
     "metadata": {},
     "output_type": "execute_result"
    }
   ],
   "source": [
    "r2_score(y_train, lr_ridge_best.predict(X_train_s))"
   ]
  },
  {
   "cell_type": "markdown",
   "id": "c3a429bd-77a7-43bb-93dc-c58738e34334",
   "metadata": {},
   "source": [
    "## Lasso Regression"
   ]
  },
  {
   "cell_type": "code",
   "execution_count": 624,
   "id": "d6edf822-1d8a-4208-90b7-786143cc0514",
   "metadata": {},
   "outputs": [],
   "source": [
    "lr_lasso = Lasso(alpha=alpha_value)"
   ]
  },
  {
   "cell_type": "code",
   "execution_count": 625,
   "id": "406a4642-ede2-4bc9-bab0-647a4f9188d8",
   "metadata": {},
   "outputs": [
    {
     "data": {
      "text/html": [
       "<style>#sk-container-id-15 {color: black;}#sk-container-id-15 pre{padding: 0;}#sk-container-id-15 div.sk-toggleable {background-color: white;}#sk-container-id-15 label.sk-toggleable__label {cursor: pointer;display: block;width: 100%;margin-bottom: 0;padding: 0.3em;box-sizing: border-box;text-align: center;}#sk-container-id-15 label.sk-toggleable__label-arrow:before {content: \"▸\";float: left;margin-right: 0.25em;color: #696969;}#sk-container-id-15 label.sk-toggleable__label-arrow:hover:before {color: black;}#sk-container-id-15 div.sk-estimator:hover label.sk-toggleable__label-arrow:before {color: black;}#sk-container-id-15 div.sk-toggleable__content {max-height: 0;max-width: 0;overflow: hidden;text-align: left;background-color: #f0f8ff;}#sk-container-id-15 div.sk-toggleable__content pre {margin: 0.2em;color: black;border-radius: 0.25em;background-color: #f0f8ff;}#sk-container-id-15 input.sk-toggleable__control:checked~div.sk-toggleable__content {max-height: 200px;max-width: 100%;overflow: auto;}#sk-container-id-15 input.sk-toggleable__control:checked~label.sk-toggleable__label-arrow:before {content: \"▾\";}#sk-container-id-15 div.sk-estimator input.sk-toggleable__control:checked~label.sk-toggleable__label {background-color: #d4ebff;}#sk-container-id-15 div.sk-label input.sk-toggleable__control:checked~label.sk-toggleable__label {background-color: #d4ebff;}#sk-container-id-15 input.sk-hidden--visually {border: 0;clip: rect(1px 1px 1px 1px);clip: rect(1px, 1px, 1px, 1px);height: 1px;margin: -1px;overflow: hidden;padding: 0;position: absolute;width: 1px;}#sk-container-id-15 div.sk-estimator {font-family: monospace;background-color: #f0f8ff;border: 1px dotted black;border-radius: 0.25em;box-sizing: border-box;margin-bottom: 0.5em;}#sk-container-id-15 div.sk-estimator:hover {background-color: #d4ebff;}#sk-container-id-15 div.sk-parallel-item::after {content: \"\";width: 100%;border-bottom: 1px solid gray;flex-grow: 1;}#sk-container-id-15 div.sk-label:hover label.sk-toggleable__label {background-color: #d4ebff;}#sk-container-id-15 div.sk-serial::before {content: \"\";position: absolute;border-left: 1px solid gray;box-sizing: border-box;top: 0;bottom: 0;left: 50%;z-index: 0;}#sk-container-id-15 div.sk-serial {display: flex;flex-direction: column;align-items: center;background-color: white;padding-right: 0.2em;padding-left: 0.2em;position: relative;}#sk-container-id-15 div.sk-item {position: relative;z-index: 1;}#sk-container-id-15 div.sk-parallel {display: flex;align-items: stretch;justify-content: center;background-color: white;position: relative;}#sk-container-id-15 div.sk-item::before, #sk-container-id-15 div.sk-parallel-item::before {content: \"\";position: absolute;border-left: 1px solid gray;box-sizing: border-box;top: 0;bottom: 0;left: 50%;z-index: -1;}#sk-container-id-15 div.sk-parallel-item {display: flex;flex-direction: column;z-index: 1;position: relative;background-color: white;}#sk-container-id-15 div.sk-parallel-item:first-child::after {align-self: flex-end;width: 50%;}#sk-container-id-15 div.sk-parallel-item:last-child::after {align-self: flex-start;width: 50%;}#sk-container-id-15 div.sk-parallel-item:only-child::after {width: 0;}#sk-container-id-15 div.sk-dashed-wrapped {border: 1px dashed gray;margin: 0 0.4em 0.5em 0.4em;box-sizing: border-box;padding-bottom: 0.4em;background-color: white;}#sk-container-id-15 div.sk-label label {font-family: monospace;font-weight: bold;display: inline-block;line-height: 1.2em;}#sk-container-id-15 div.sk-label-container {text-align: center;}#sk-container-id-15 div.sk-container {/* jupyter's `normalize.less` sets `[hidden] { display: none; }` but bootstrap.min.css set `[hidden] { display: none !important; }` so we also need the `!important` here to be able to override the default hidden behavior on the sphinx rendered scikit-learn.org. See: https://github.com/scikit-learn/scikit-learn/issues/21755 */display: inline-block !important;position: relative;}#sk-container-id-15 div.sk-text-repr-fallback {display: none;}</style><div id=\"sk-container-id-15\" class=\"sk-top-container\"><div class=\"sk-text-repr-fallback\"><pre>Lasso(alpha=27.1858824273294)</pre><b>In a Jupyter environment, please rerun this cell to show the HTML representation or trust the notebook. <br />On GitHub, the HTML representation is unable to render, please try loading this page with nbviewer.org.</b></div><div class=\"sk-container\" hidden><div class=\"sk-item\"><div class=\"sk-estimator sk-toggleable\"><input class=\"sk-toggleable__control sk-hidden--visually\" id=\"sk-estimator-id-15\" type=\"checkbox\" checked><label for=\"sk-estimator-id-15\" class=\"sk-toggleable__label sk-toggleable__label-arrow\">Lasso</label><div class=\"sk-toggleable__content\"><pre>Lasso(alpha=27.1858824273294)</pre></div></div></div></div></div>"
      ],
      "text/plain": [
       "Lasso(alpha=27.1858824273294)"
      ]
     },
     "execution_count": 625,
     "metadata": {},
     "output_type": "execute_result"
    }
   ],
   "source": [
    "lr_lasso.fit(X_train_s, y_train)"
   ]
  },
  {
   "cell_type": "code",
   "execution_count": 626,
   "id": "4b725ff8-5160-4af4-82fc-e829042a7f2d",
   "metadata": {},
   "outputs": [
    {
     "data": {
      "text/plain": [
       "0.5396891770372774"
      ]
     },
     "execution_count": 626,
     "metadata": {},
     "output_type": "execute_result"
    }
   ],
   "source": [
    "r2_score(y_test, lr_lasso.predict(X_test_s))"
   ]
  },
  {
   "cell_type": "code",
   "execution_count": null,
   "id": "300165a3-20b8-40ad-9410-9f76ba55a1fd",
   "metadata": {},
   "outputs": [],
   "source": []
  }
 ],
 "metadata": {
  "kernelspec": {
   "display_name": "anaconda-panel-2023.05-py310",
   "language": "python",
   "name": "conda-env-anaconda-panel-2023.05-py310-py"
  },
  "language_info": {
   "codemirror_mode": {
    "name": "ipython",
    "version": 3
   },
   "file_extension": ".py",
   "mimetype": "text/x-python",
   "name": "python",
   "nbconvert_exporter": "python",
   "pygments_lexer": "ipython3",
   "version": "3.11.5"
  }
 },
 "nbformat": 4,
 "nbformat_minor": 5
}
